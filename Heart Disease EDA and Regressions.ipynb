{
 "cells": [
  {
   "cell_type": "markdown",
   "metadata": {},
   "source": [
    "# Exploratory Data Analysis"
   ]
  },
  {
   "cell_type": "markdown",
   "metadata": {},
   "source": [
    "## Import data and initial examination"
   ]
  },
  {
   "cell_type": "code",
   "execution_count": 9,
   "metadata": {},
   "outputs": [
    {
     "data": {
      "text/html": [
       "<div>\n",
       "<style scoped>\n",
       "    .dataframe tbody tr th:only-of-type {\n",
       "        vertical-align: middle;\n",
       "    }\n",
       "\n",
       "    .dataframe tbody tr th {\n",
       "        vertical-align: top;\n",
       "    }\n",
       "\n",
       "    .dataframe thead th {\n",
       "        text-align: right;\n",
       "    }\n",
       "</style>\n",
       "<table border=\"1\" class=\"dataframe\">\n",
       "  <thead>\n",
       "    <tr style=\"text-align: right;\">\n",
       "      <th></th>\n",
       "      <th>age</th>\n",
       "      <th>sex</th>\n",
       "      <th>cp</th>\n",
       "      <th>trestbps</th>\n",
       "      <th>chol</th>\n",
       "      <th>fbs</th>\n",
       "      <th>restecg</th>\n",
       "      <th>thalach</th>\n",
       "      <th>exang</th>\n",
       "      <th>oldpeak</th>\n",
       "      <th>slope</th>\n",
       "      <th>ca</th>\n",
       "      <th>thal</th>\n",
       "      <th>target</th>\n",
       "    </tr>\n",
       "  </thead>\n",
       "  <tbody>\n",
       "    <tr>\n",
       "      <th>0</th>\n",
       "      <td>63</td>\n",
       "      <td>1</td>\n",
       "      <td>3</td>\n",
       "      <td>145</td>\n",
       "      <td>233</td>\n",
       "      <td>1</td>\n",
       "      <td>0</td>\n",
       "      <td>150</td>\n",
       "      <td>0</td>\n",
       "      <td>2.3</td>\n",
       "      <td>0</td>\n",
       "      <td>0</td>\n",
       "      <td>1</td>\n",
       "      <td>1</td>\n",
       "    </tr>\n",
       "    <tr>\n",
       "      <th>1</th>\n",
       "      <td>37</td>\n",
       "      <td>1</td>\n",
       "      <td>2</td>\n",
       "      <td>130</td>\n",
       "      <td>250</td>\n",
       "      <td>0</td>\n",
       "      <td>1</td>\n",
       "      <td>187</td>\n",
       "      <td>0</td>\n",
       "      <td>3.5</td>\n",
       "      <td>0</td>\n",
       "      <td>0</td>\n",
       "      <td>2</td>\n",
       "      <td>1</td>\n",
       "    </tr>\n",
       "    <tr>\n",
       "      <th>2</th>\n",
       "      <td>41</td>\n",
       "      <td>0</td>\n",
       "      <td>1</td>\n",
       "      <td>130</td>\n",
       "      <td>204</td>\n",
       "      <td>0</td>\n",
       "      <td>0</td>\n",
       "      <td>172</td>\n",
       "      <td>0</td>\n",
       "      <td>1.4</td>\n",
       "      <td>2</td>\n",
       "      <td>0</td>\n",
       "      <td>2</td>\n",
       "      <td>1</td>\n",
       "    </tr>\n",
       "    <tr>\n",
       "      <th>3</th>\n",
       "      <td>56</td>\n",
       "      <td>1</td>\n",
       "      <td>1</td>\n",
       "      <td>120</td>\n",
       "      <td>236</td>\n",
       "      <td>0</td>\n",
       "      <td>1</td>\n",
       "      <td>178</td>\n",
       "      <td>0</td>\n",
       "      <td>0.8</td>\n",
       "      <td>2</td>\n",
       "      <td>0</td>\n",
       "      <td>2</td>\n",
       "      <td>1</td>\n",
       "    </tr>\n",
       "    <tr>\n",
       "      <th>4</th>\n",
       "      <td>57</td>\n",
       "      <td>0</td>\n",
       "      <td>0</td>\n",
       "      <td>120</td>\n",
       "      <td>354</td>\n",
       "      <td>0</td>\n",
       "      <td>1</td>\n",
       "      <td>163</td>\n",
       "      <td>1</td>\n",
       "      <td>0.6</td>\n",
       "      <td>2</td>\n",
       "      <td>0</td>\n",
       "      <td>2</td>\n",
       "      <td>1</td>\n",
       "    </tr>\n",
       "  </tbody>\n",
       "</table>\n",
       "</div>"
      ],
      "text/plain": [
       "   age  sex  cp  trestbps  chol  fbs  restecg  thalach  exang  oldpeak  slope  \\\n",
       "0   63    1   3       145   233    1        0      150      0      2.3      0   \n",
       "1   37    1   2       130   250    0        1      187      0      3.5      0   \n",
       "2   41    0   1       130   204    0        0      172      0      1.4      2   \n",
       "3   56    1   1       120   236    0        1      178      0      0.8      2   \n",
       "4   57    0   0       120   354    0        1      163      1      0.6      2   \n",
       "\n",
       "   ca  thal  target  \n",
       "0   0     1       1  \n",
       "1   0     2       1  \n",
       "2   0     2       1  \n",
       "3   0     2       1  \n",
       "4   0     2       1  "
      ]
     },
     "execution_count": 9,
     "metadata": {},
     "output_type": "execute_result"
    }
   ],
   "source": [
    "# Import data\n",
    "import pandas as pd\n",
    "\n",
    "heartdf = pd.read_csv('heart.csv', header = 0)\n",
    "\n",
    "# See header of data\n",
    "heartdf.head()"
   ]
  },
  {
   "cell_type": "code",
   "execution_count": 10,
   "metadata": {},
   "outputs": [
    {
     "name": "stdout",
     "output_type": "stream",
     "text": [
      "<class 'pandas.core.frame.DataFrame'>\n",
      "RangeIndex: 303 entries, 0 to 302\n",
      "Data columns (total 14 columns):\n",
      " #   Column    Non-Null Count  Dtype  \n",
      "---  ------    --------------  -----  \n",
      " 0   age       303 non-null    int64  \n",
      " 1   sex       303 non-null    int64  \n",
      " 2   cp        303 non-null    int64  \n",
      " 3   trestbps  303 non-null    int64  \n",
      " 4   chol      303 non-null    int64  \n",
      " 5   fbs       303 non-null    int64  \n",
      " 6   restecg   303 non-null    int64  \n",
      " 7   thalach   303 non-null    int64  \n",
      " 8   exang     303 non-null    int64  \n",
      " 9   oldpeak   303 non-null    float64\n",
      " 10  slope     303 non-null    int64  \n",
      " 11  ca        303 non-null    int64  \n",
      " 12  thal      303 non-null    int64  \n",
      " 13  target    303 non-null    int64  \n",
      "dtypes: float64(1), int64(13)\n",
      "memory usage: 33.3 KB\n"
     ]
    }
   ],
   "source": [
    "# Print data frame information\n",
    "heartdf.info()"
   ]
  },
  {
   "cell_type": "code",
   "execution_count": 11,
   "metadata": {},
   "outputs": [
    {
     "name": "stdout",
     "output_type": "stream",
     "text": [
      "<class 'pandas.core.frame.DataFrame'>\n",
      "Int64Index: 301 entries, 0 to 302\n",
      "Data columns (total 14 columns):\n",
      " #   Column    Non-Null Count  Dtype  \n",
      "---  ------    --------------  -----  \n",
      " 0   age       301 non-null    int64  \n",
      " 1   sex       301 non-null    int64  \n",
      " 2   cp        301 non-null    int64  \n",
      " 3   trestbps  301 non-null    int64  \n",
      " 4   chol      301 non-null    int64  \n",
      " 5   fbs       301 non-null    int64  \n",
      " 6   restecg   301 non-null    int64  \n",
      " 7   thalach   301 non-null    int64  \n",
      " 8   exang     301 non-null    int64  \n",
      " 9   oldpeak   301 non-null    float64\n",
      " 10  slope     301 non-null    int64  \n",
      " 11  ca        301 non-null    int64  \n",
      " 12  thal      301 non-null    int64  \n",
      " 13  target    301 non-null    int64  \n",
      "dtypes: float64(1), int64(13)\n",
      "memory usage: 35.3 KB\n"
     ]
    }
   ],
   "source": [
    "# Eliminate thal = 0 entries (they don't provide information)\n",
    "heartdf = heartdf[heartdf['thal'] != 0]\n",
    "heartdf.info()"
   ]
  },
  {
   "cell_type": "code",
   "execution_count": 12,
   "metadata": {},
   "outputs": [
    {
     "data": {
      "text/plain": [
       "(301, 14)"
      ]
     },
     "execution_count": 12,
     "metadata": {},
     "output_type": "execute_result"
    }
   ],
   "source": [
    "# Drop rows with NA values\n",
    "heartdf.dropna()\n",
    "heartdf.shape"
   ]
  },
  {
   "cell_type": "code",
   "execution_count": 13,
   "metadata": {},
   "outputs": [
    {
     "data": {
      "text/plain": [
       "(300, 14)"
      ]
     },
     "execution_count": 13,
     "metadata": {},
     "output_type": "execute_result"
    }
   ],
   "source": [
    "# Drop duplicate rows \n",
    "heartdf = heartdf.drop_duplicates()\n",
    "heartdf.shape"
   ]
  },
  {
   "cell_type": "markdown",
   "metadata": {},
   "source": [
    "## Cleaning data"
   ]
  },
  {
   "cell_type": "markdown",
   "metadata": {},
   "source": [
    "### Creating Dummy Variables"
   ]
  },
  {
   "cell_type": "code",
   "execution_count": 14,
   "metadata": {},
   "outputs": [
    {
     "data": {
      "text/html": [
       "<div>\n",
       "<style scoped>\n",
       "    .dataframe tbody tr th:only-of-type {\n",
       "        vertical-align: middle;\n",
       "    }\n",
       "\n",
       "    .dataframe tbody tr th {\n",
       "        vertical-align: top;\n",
       "    }\n",
       "\n",
       "    .dataframe thead th {\n",
       "        text-align: right;\n",
       "    }\n",
       "</style>\n",
       "<table border=\"1\" class=\"dataframe\">\n",
       "  <thead>\n",
       "    <tr style=\"text-align: right;\">\n",
       "      <th></th>\n",
       "      <th>age</th>\n",
       "      <th>sex</th>\n",
       "      <th>cp</th>\n",
       "      <th>trestbps</th>\n",
       "      <th>chol</th>\n",
       "      <th>fbs</th>\n",
       "      <th>restecg</th>\n",
       "      <th>thalach</th>\n",
       "      <th>exang</th>\n",
       "      <th>oldpeak</th>\n",
       "      <th>slope</th>\n",
       "      <th>ca</th>\n",
       "      <th>thal</th>\n",
       "      <th>target</th>\n",
       "    </tr>\n",
       "  </thead>\n",
       "  <tbody>\n",
       "    <tr>\n",
       "      <th>0</th>\n",
       "      <td>63</td>\n",
       "      <td>male</td>\n",
       "      <td>typical_angina</td>\n",
       "      <td>145</td>\n",
       "      <td>233</td>\n",
       "      <td>1</td>\n",
       "      <td>ventricular_hypertrophy</td>\n",
       "      <td>150</td>\n",
       "      <td>0</td>\n",
       "      <td>2.3</td>\n",
       "      <td>downsloping</td>\n",
       "      <td>0</td>\n",
       "      <td>fixed_defect</td>\n",
       "      <td>1</td>\n",
       "    </tr>\n",
       "    <tr>\n",
       "      <th>1</th>\n",
       "      <td>37</td>\n",
       "      <td>male</td>\n",
       "      <td>nonanginal_pain</td>\n",
       "      <td>130</td>\n",
       "      <td>250</td>\n",
       "      <td>0</td>\n",
       "      <td>normal</td>\n",
       "      <td>187</td>\n",
       "      <td>0</td>\n",
       "      <td>3.5</td>\n",
       "      <td>downsloping</td>\n",
       "      <td>0</td>\n",
       "      <td>normal</td>\n",
       "      <td>1</td>\n",
       "    </tr>\n",
       "    <tr>\n",
       "      <th>2</th>\n",
       "      <td>41</td>\n",
       "      <td>female</td>\n",
       "      <td>atypical_angina</td>\n",
       "      <td>130</td>\n",
       "      <td>204</td>\n",
       "      <td>0</td>\n",
       "      <td>ventricular_hypertrophy</td>\n",
       "      <td>172</td>\n",
       "      <td>0</td>\n",
       "      <td>1.4</td>\n",
       "      <td>upsloping</td>\n",
       "      <td>0</td>\n",
       "      <td>normal</td>\n",
       "      <td>1</td>\n",
       "    </tr>\n",
       "    <tr>\n",
       "      <th>3</th>\n",
       "      <td>56</td>\n",
       "      <td>male</td>\n",
       "      <td>atypical_angina</td>\n",
       "      <td>120</td>\n",
       "      <td>236</td>\n",
       "      <td>0</td>\n",
       "      <td>normal</td>\n",
       "      <td>178</td>\n",
       "      <td>0</td>\n",
       "      <td>0.8</td>\n",
       "      <td>upsloping</td>\n",
       "      <td>0</td>\n",
       "      <td>normal</td>\n",
       "      <td>1</td>\n",
       "    </tr>\n",
       "    <tr>\n",
       "      <th>4</th>\n",
       "      <td>57</td>\n",
       "      <td>female</td>\n",
       "      <td>asymptomatic</td>\n",
       "      <td>120</td>\n",
       "      <td>354</td>\n",
       "      <td>0</td>\n",
       "      <td>normal</td>\n",
       "      <td>163</td>\n",
       "      <td>1</td>\n",
       "      <td>0.6</td>\n",
       "      <td>upsloping</td>\n",
       "      <td>0</td>\n",
       "      <td>normal</td>\n",
       "      <td>1</td>\n",
       "    </tr>\n",
       "  </tbody>\n",
       "</table>\n",
       "</div>"
      ],
      "text/plain": [
       "   age     sex               cp  trestbps  chol  fbs                  restecg  \\\n",
       "0   63    male   typical_angina       145   233    1  ventricular_hypertrophy   \n",
       "1   37    male  nonanginal_pain       130   250    0                   normal   \n",
       "2   41  female  atypical_angina       130   204    0  ventricular_hypertrophy   \n",
       "3   56    male  atypical_angina       120   236    0                   normal   \n",
       "4   57  female     asymptomatic       120   354    0                   normal   \n",
       "\n",
       "   thalach  exang  oldpeak        slope  ca          thal  target  \n",
       "0      150      0      2.3  downsloping   0  fixed_defect       1  \n",
       "1      187      0      3.5  downsloping   0        normal       1  \n",
       "2      172      0      1.4    upsloping   0        normal       1  \n",
       "3      178      0      0.8    upsloping   0        normal       1  \n",
       "4      163      1      0.6    upsloping   0        normal       1  "
      ]
     },
     "execution_count": 14,
     "metadata": {},
     "output_type": "execute_result"
    }
   ],
   "source": [
    "# Naming variables before creating dummies\n",
    "heartdf['sex'] = heartdf['sex'].replace(1, 'male')\n",
    "heartdf['sex'] = heartdf['sex'].replace(0, 'female')\n",
    "heartdf['thal'] = heartdf['thal'].replace(1, 'fixed_defect')\n",
    "heartdf['thal'] = heartdf['thal'].replace(2, 'normal')\n",
    "heartdf['thal'] = heartdf['thal'].replace(3, 'reversable_defect')\n",
    "heartdf['cp'] = heartdf['cp'].replace(0, 'asymptomatic')\n",
    "heartdf['cp'] = heartdf['cp'].replace(1, 'atypical_angina')\n",
    "heartdf['cp'] = heartdf['cp'].replace(2, 'nonanginal_pain')\n",
    "heartdf['cp'] = heartdf['cp'].replace(3, 'typical_angina')\n",
    "heartdf['restecg'] = heartdf['restecg'].replace(0, 'ventricular_hypertrophy')\n",
    "heartdf['restecg'] = heartdf['restecg'].replace(1, 'normal')\n",
    "heartdf['restecg'] = heartdf['restecg'].replace(2, 'STT_wave_abnormality')\n",
    "heartdf['slope'] = heartdf['slope'].replace(0, 'downsloping')\n",
    "heartdf['slope'] = heartdf['slope'].replace(1, 'flat')\n",
    "heartdf['slope'] = heartdf['slope'].replace(2, 'upsloping')\n",
    "\n",
    "heartdf.head()"
   ]
  },
  {
   "cell_type": "code",
   "execution_count": 15,
   "metadata": {},
   "outputs": [
    {
     "data": {
      "text/html": [
       "<div>\n",
       "<style scoped>\n",
       "    .dataframe tbody tr th:only-of-type {\n",
       "        vertical-align: middle;\n",
       "    }\n",
       "\n",
       "    .dataframe tbody tr th {\n",
       "        vertical-align: top;\n",
       "    }\n",
       "\n",
       "    .dataframe thead th {\n",
       "        text-align: right;\n",
       "    }\n",
       "</style>\n",
       "<table border=\"1\" class=\"dataframe\">\n",
       "  <thead>\n",
       "    <tr style=\"text-align: right;\">\n",
       "      <th></th>\n",
       "      <th>age</th>\n",
       "      <th>trestbps</th>\n",
       "      <th>chol</th>\n",
       "      <th>fbs</th>\n",
       "      <th>thalach</th>\n",
       "      <th>exang</th>\n",
       "      <th>oldpeak</th>\n",
       "      <th>ca</th>\n",
       "      <th>target</th>\n",
       "      <th>sex_female</th>\n",
       "      <th>...</th>\n",
       "      <th>cp_typical_angina</th>\n",
       "      <th>restecg_STT_wave_abnormality</th>\n",
       "      <th>restecg_normal</th>\n",
       "      <th>restecg_ventricular_hypertrophy</th>\n",
       "      <th>slope_downsloping</th>\n",
       "      <th>slope_flat</th>\n",
       "      <th>slope_upsloping</th>\n",
       "      <th>thal_fixed_defect</th>\n",
       "      <th>thal_normal</th>\n",
       "      <th>thal_reversable_defect</th>\n",
       "    </tr>\n",
       "  </thead>\n",
       "  <tbody>\n",
       "    <tr>\n",
       "      <th>0</th>\n",
       "      <td>63</td>\n",
       "      <td>145</td>\n",
       "      <td>233</td>\n",
       "      <td>1</td>\n",
       "      <td>150</td>\n",
       "      <td>0</td>\n",
       "      <td>2.3</td>\n",
       "      <td>0</td>\n",
       "      <td>1</td>\n",
       "      <td>0</td>\n",
       "      <td>...</td>\n",
       "      <td>1</td>\n",
       "      <td>0</td>\n",
       "      <td>0</td>\n",
       "      <td>1</td>\n",
       "      <td>1</td>\n",
       "      <td>0</td>\n",
       "      <td>0</td>\n",
       "      <td>1</td>\n",
       "      <td>0</td>\n",
       "      <td>0</td>\n",
       "    </tr>\n",
       "    <tr>\n",
       "      <th>1</th>\n",
       "      <td>37</td>\n",
       "      <td>130</td>\n",
       "      <td>250</td>\n",
       "      <td>0</td>\n",
       "      <td>187</td>\n",
       "      <td>0</td>\n",
       "      <td>3.5</td>\n",
       "      <td>0</td>\n",
       "      <td>1</td>\n",
       "      <td>0</td>\n",
       "      <td>...</td>\n",
       "      <td>0</td>\n",
       "      <td>0</td>\n",
       "      <td>1</td>\n",
       "      <td>0</td>\n",
       "      <td>1</td>\n",
       "      <td>0</td>\n",
       "      <td>0</td>\n",
       "      <td>0</td>\n",
       "      <td>1</td>\n",
       "      <td>0</td>\n",
       "    </tr>\n",
       "    <tr>\n",
       "      <th>2</th>\n",
       "      <td>41</td>\n",
       "      <td>130</td>\n",
       "      <td>204</td>\n",
       "      <td>0</td>\n",
       "      <td>172</td>\n",
       "      <td>0</td>\n",
       "      <td>1.4</td>\n",
       "      <td>0</td>\n",
       "      <td>1</td>\n",
       "      <td>1</td>\n",
       "      <td>...</td>\n",
       "      <td>0</td>\n",
       "      <td>0</td>\n",
       "      <td>0</td>\n",
       "      <td>1</td>\n",
       "      <td>0</td>\n",
       "      <td>0</td>\n",
       "      <td>1</td>\n",
       "      <td>0</td>\n",
       "      <td>1</td>\n",
       "      <td>0</td>\n",
       "    </tr>\n",
       "    <tr>\n",
       "      <th>3</th>\n",
       "      <td>56</td>\n",
       "      <td>120</td>\n",
       "      <td>236</td>\n",
       "      <td>0</td>\n",
       "      <td>178</td>\n",
       "      <td>0</td>\n",
       "      <td>0.8</td>\n",
       "      <td>0</td>\n",
       "      <td>1</td>\n",
       "      <td>0</td>\n",
       "      <td>...</td>\n",
       "      <td>0</td>\n",
       "      <td>0</td>\n",
       "      <td>1</td>\n",
       "      <td>0</td>\n",
       "      <td>0</td>\n",
       "      <td>0</td>\n",
       "      <td>1</td>\n",
       "      <td>0</td>\n",
       "      <td>1</td>\n",
       "      <td>0</td>\n",
       "    </tr>\n",
       "    <tr>\n",
       "      <th>4</th>\n",
       "      <td>57</td>\n",
       "      <td>120</td>\n",
       "      <td>354</td>\n",
       "      <td>0</td>\n",
       "      <td>163</td>\n",
       "      <td>1</td>\n",
       "      <td>0.6</td>\n",
       "      <td>0</td>\n",
       "      <td>1</td>\n",
       "      <td>1</td>\n",
       "      <td>...</td>\n",
       "      <td>0</td>\n",
       "      <td>0</td>\n",
       "      <td>1</td>\n",
       "      <td>0</td>\n",
       "      <td>0</td>\n",
       "      <td>0</td>\n",
       "      <td>1</td>\n",
       "      <td>0</td>\n",
       "      <td>1</td>\n",
       "      <td>0</td>\n",
       "    </tr>\n",
       "  </tbody>\n",
       "</table>\n",
       "<p>5 rows × 24 columns</p>\n",
       "</div>"
      ],
      "text/plain": [
       "   age  trestbps  chol  fbs  thalach  exang  oldpeak  ca  target  sex_female  \\\n",
       "0   63       145   233    1      150      0      2.3   0       1           0   \n",
       "1   37       130   250    0      187      0      3.5   0       1           0   \n",
       "2   41       130   204    0      172      0      1.4   0       1           1   \n",
       "3   56       120   236    0      178      0      0.8   0       1           0   \n",
       "4   57       120   354    0      163      1      0.6   0       1           1   \n",
       "\n",
       "   ...  cp_typical_angina  restecg_STT_wave_abnormality  restecg_normal  \\\n",
       "0  ...                  1                             0               0   \n",
       "1  ...                  0                             0               1   \n",
       "2  ...                  0                             0               0   \n",
       "3  ...                  0                             0               1   \n",
       "4  ...                  0                             0               1   \n",
       "\n",
       "   restecg_ventricular_hypertrophy  slope_downsloping  slope_flat  \\\n",
       "0                                1                  1           0   \n",
       "1                                0                  1           0   \n",
       "2                                1                  0           0   \n",
       "3                                0                  0           0   \n",
       "4                                0                  0           0   \n",
       "\n",
       "   slope_upsloping  thal_fixed_defect  thal_normal  thal_reversable_defect  \n",
       "0                0                  1            0                       0  \n",
       "1                0                  0            1                       0  \n",
       "2                1                  0            1                       0  \n",
       "3                1                  0            1                       0  \n",
       "4                1                  0            1                       0  \n",
       "\n",
       "[5 rows x 24 columns]"
      ]
     },
     "execution_count": 15,
     "metadata": {},
     "output_type": "execute_result"
    }
   ],
   "source": [
    "# Create dummy variables and join them to original data frame\n",
    "heartdf_dummies = pd.get_dummies(heartdf[['sex', 'cp', 'restecg', 'slope', 'thal']])\n",
    "heartdf = heartdf.drop(columns = ['sex', 'cp','restecg', 'slope', 'thal'], axis=1)\n",
    "heartdf = heartdf.join(heartdf_dummies, how='left')\n",
    "heartdf.head()"
   ]
  },
  {
   "cell_type": "markdown",
   "metadata": {},
   "source": [
    "## Correlation Matrix"
   ]
  },
  {
   "cell_type": "code",
   "execution_count": 78,
   "metadata": {
    "scrolled": false
   },
   "outputs": [
    {
     "name": "stdout",
     "output_type": "stream",
     "text": [
      "                                      age  trestbps      chol       fbs  \\\n",
      "age                              1.000000  0.282915  0.206558  0.122627   \n",
      "trestbps                         0.282915  1.000000  0.124519  0.181279   \n",
      "chol                             0.206558  0.124519  1.000000  0.017350   \n",
      "fbs                              0.122627  0.181279  0.017350  1.000000   \n",
      "thalach                         -0.397405 -0.049065 -0.007559 -0.011622   \n",
      "exang                            0.094540  0.069331  0.067042  0.012590   \n",
      "oldpeak                          0.205844  0.194248  0.048360  0.003622   \n",
      "ca                               0.301811  0.098451  0.083797  0.151374   \n",
      "target                          -0.222752 -0.146902 -0.083037 -0.017150   \n",
      "sex_female                       0.095553  0.058444  0.197782 -0.039160   \n",
      "sex_male                        -0.095553 -0.058444 -0.197782  0.039160   \n",
      "cp_asymptomatic                  0.134433  0.022777  0.068044 -0.072214   \n",
      "cp_atypical_angina              -0.151677 -0.082035 -0.016966 -0.058992   \n",
      "cp_nonanginal_pain              -0.050477 -0.046791 -0.029758  0.094790   \n",
      "cp_typical_angina                0.045671  0.151413 -0.053525  0.057606   \n",
      "restecg_STT_wave_abnormality     0.084241  0.058641  0.033709 -0.048194   \n",
      "restecg_normal                  -0.155970 -0.148568 -0.170753 -0.075378   \n",
      "restecg_ventricular_hypertrophy  0.136694  0.135164  0.163079  0.086464   \n",
      "slope_downsloping                0.028690  0.122428 -0.048119  0.107832   \n",
      "slope_flat                       0.173923  0.026561  0.048526 -0.045097   \n",
      "slope_upsloping                 -0.188515 -0.089162 -0.023894 -0.010073   \n",
      "thal_fixed_defect                0.062267  0.076379 -0.096386  0.093632   \n",
      "thal_normal                     -0.133464 -0.144136 -0.005651 -0.079545   \n",
      "thal_reversable_defect           0.105812  0.109826  0.052695  0.035545   \n",
      "\n",
      "                                  thalach     exang   oldpeak        ca  \\\n",
      "age                             -0.397405  0.094540  0.205844  0.301811   \n",
      "trestbps                        -0.049065  0.069331  0.194248  0.098451   \n",
      "chol                            -0.007559  0.067042  0.048360  0.083797   \n",
      "fbs                             -0.011622  0.012590  0.003622  0.151374   \n",
      "thalach                          1.000000 -0.385364 -0.348520 -0.232553   \n",
      "exang                           -0.385364  1.000000  0.286461  0.127881   \n",
      "oldpeak                         -0.348520  0.286461  1.000000  0.235045   \n",
      "ca                              -0.232553  0.127881  0.235045  1.000000   \n",
      "target                           0.428683 -0.431575 -0.428568 -0.411488   \n",
      "sex_female                       0.054871 -0.138020 -0.094571 -0.111871   \n",
      "sex_male                        -0.054871  0.138020  0.094571  0.111871   \n",
      "cp_asymptomatic                 -0.383071  0.464253  0.276819  0.234011   \n",
      "cp_atypical_angina               0.249654 -0.235211 -0.281252 -0.134751   \n",
      "cp_nonanginal_pain               0.171119 -0.264454 -0.124580 -0.106423   \n",
      "cp_typical_angina                0.079356 -0.093853  0.085477 -0.070148   \n",
      "restecg_STT_wave_abnormality    -0.121649  0.042963  0.167928  0.031948   \n",
      "restecg_normal                   0.093211 -0.099504 -0.139437 -0.102645   \n",
      "restecg_ventricular_hypertrophy -0.065328  0.089680  0.100950  0.095350   \n",
      "slope_downsloping               -0.057131  0.059612  0.393791 -0.041398   \n",
      "slope_flat                      -0.426563  0.250761  0.307896  0.155756   \n",
      "slope_upsloping                  0.455582 -0.281131 -0.509149 -0.134510   \n",
      "thal_fixed_defect               -0.160889  0.063446  0.103413  0.069433   \n",
      "thal_normal                      0.290438 -0.327159 -0.342562 -0.241932   \n",
      "thal_reversable_defect          -0.217903  0.302803  0.299053  0.212958   \n",
      "\n",
      "                                   target  sex_female  ...  cp_typical_angina  \\\n",
      "age                             -0.222752    0.095553  ...           0.045671   \n",
      "trestbps                        -0.146902    0.058444  ...           0.151413   \n",
      "chol                            -0.083037    0.197782  ...          -0.053525   \n",
      "fbs                             -0.017150   -0.039160  ...           0.057606   \n",
      "thalach                          0.428683    0.054871  ...           0.079356   \n",
      "exang                           -0.431575   -0.138020  ...          -0.093853   \n",
      "oldpeak                         -0.428568   -0.094571  ...           0.085477   \n",
      "ca                              -0.411488   -0.111871  ...          -0.070148   \n",
      "target                           1.000000    0.278841  ...           0.088114   \n",
      "sex_female                       0.278841    1.000000  ...          -0.088429   \n",
      "sex_male                        -0.278841   -1.000000  ...           0.088429   \n",
      "cp_asymptomatic                 -0.511360   -0.085633  ...          -0.273174   \n",
      "cp_atypical_angina               0.248393    0.041660  ...          -0.128866   \n",
      "cp_nonanginal_pain               0.309136    0.112640  ...          -0.181182   \n",
      "cp_typical_angina                0.088114   -0.088429  ...           1.000000   \n",
      "restecg_STT_wave_abnormality    -0.068456    0.108290  ...          -0.033497   \n",
      "restecg_normal                   0.180680    0.021497  ...          -0.062642   \n",
      "restecg_ventricular_hypertrophy -0.165035   -0.046355  ...           0.070351   \n",
      "slope_downsloping               -0.063208   -0.046340  ...           0.068253   \n",
      "slope_flat                      -0.355938    0.014131  ...           0.008626   \n",
      "slope_upsloping                  0.388098    0.009576  ...          -0.043529   \n",
      "thal_fixed_defect               -0.106512   -0.141814  ...           0.032708   \n",
      "thal_normal                      0.529301    0.385299  ...           0.008814   \n",
      "thal_reversable_defect          -0.488014   -0.323946  ...          -0.024916   \n",
      "\n",
      "                                 restecg_STT_wave_abnormality  restecg_normal  \\\n",
      "age                                                  0.084241       -0.155970   \n",
      "trestbps                                             0.058641       -0.148568   \n",
      "chol                                                 0.033709       -0.170753   \n",
      "fbs                                                 -0.048194       -0.075378   \n",
      "thalach                                             -0.121649        0.093211   \n",
      "exang                                                0.042963       -0.099504   \n",
      "oldpeak                                              0.167928       -0.139437   \n",
      "ca                                                   0.031948       -0.102645   \n",
      "target                                              -0.068456        0.180680   \n",
      "sex_female                                           0.108290        0.021497   \n",
      "sex_male                                            -0.108290       -0.021497   \n",
      "cp_asymptomatic                                      0.064415       -0.133523   \n",
      "cp_atypical_angina                                  -0.051988        0.107331   \n",
      "cp_nonanginal_pain                                  -0.008599        0.096164   \n",
      "cp_typical_angina                                   -0.033497       -0.062642   \n",
      "restecg_STT_wave_abnormality                         1.000000       -0.116248   \n",
      "restecg_normal                                      -0.116248        1.000000   \n",
      "restecg_ventricular_hypertrophy                     -0.113188       -0.973680   \n",
      "slope_downsloping                                    0.082010       -0.065322   \n",
      "slope_flat                                           0.066829       -0.127009   \n",
      "slope_upsloping                                     -0.108740        0.160357   \n",
      "thal_fixed_defect                                    0.093003       -0.056143   \n",
      "thal_normal                                         -0.011683        0.033501   \n",
      "thal_reversable_defect                              -0.033367       -0.006834   \n",
      "\n",
      "                                 restecg_ventricular_hypertrophy  \\\n",
      "age                                                     0.136694   \n",
      "trestbps                                                0.135164   \n",
      "chol                                                    0.163079   \n",
      "fbs                                                     0.086464   \n",
      "thalach                                                -0.065328   \n",
      "exang                                                   0.089680   \n",
      "oldpeak                                                 0.100950   \n",
      "ca                                                      0.095350   \n",
      "target                                                 -0.165035   \n",
      "sex_female                                             -0.046355   \n",
      "sex_male                                                0.046355   \n",
      "cp_asymptomatic                                         0.118789   \n",
      "cp_atypical_angina                                     -0.095440   \n",
      "cp_nonanginal_pain                                     -0.094225   \n",
      "cp_typical_angina                                       0.070351   \n",
      "restecg_STT_wave_abnormality                           -0.113188   \n",
      "restecg_normal                                         -0.973680   \n",
      "restecg_ventricular_hypertrophy                         1.000000   \n",
      "slope_downsloping                                       0.046526   \n",
      "slope_flat                                              0.111718   \n",
      "slope_upsloping                                        -0.135461   \n",
      "thal_fixed_defect                                       0.034821   \n",
      "thal_normal                                            -0.030832   \n",
      "thal_reversable_defect                                  0.014493   \n",
      "\n",
      "                                 slope_downsloping  slope_flat  \\\n",
      "age                                       0.028690    0.173923   \n",
      "trestbps                                  0.122428    0.026561   \n",
      "chol                                     -0.048119    0.048526   \n",
      "fbs                                       0.107832   -0.045097   \n",
      "thalach                                  -0.057131   -0.426563   \n",
      "exang                                     0.059612    0.250761   \n",
      "oldpeak                                   0.393791    0.307896   \n",
      "ca                                       -0.041398    0.155756   \n",
      "target                                   -0.063208   -0.355938   \n",
      "sex_female                               -0.046340    0.014131   \n",
      "sex_male                                  0.046340   -0.014131   \n",
      "cp_asymptomatic                           0.027736    0.230369   \n",
      "cp_atypical_angina                       -0.052583   -0.200295   \n",
      "cp_nonanginal_pain                       -0.027543   -0.094693   \n",
      "cp_typical_angina                         0.068253    0.008626   \n",
      "restecg_STT_wave_abnormality              0.082010    0.066829   \n",
      "restecg_normal                           -0.065322   -0.127009   \n",
      "restecg_ventricular_hypertrophy           0.046526    0.111718   \n",
      "slope_downsloping                         1.000000   -0.254919   \n",
      "slope_flat                               -0.254919    1.000000   \n",
      "slope_upsloping                          -0.256632   -0.869158   \n",
      "thal_fixed_defect                         0.095719    0.131167   \n",
      "thal_normal                              -0.093224   -0.274780   \n",
      "thal_reversable_defect                    0.048481    0.216404   \n",
      "\n",
      "                                 slope_upsloping  thal_fixed_defect  \\\n",
      "age                                    -0.188515           0.062267   \n",
      "trestbps                               -0.089162           0.076379   \n",
      "chol                                   -0.023894          -0.096386   \n",
      "fbs                                    -0.010073           0.093632   \n",
      "thalach                                 0.455582          -0.160889   \n",
      "exang                                  -0.281131           0.063446   \n",
      "oldpeak                                -0.509149           0.103413   \n",
      "ca                                     -0.134510           0.069433   \n",
      "target                                  0.388098          -0.106512   \n",
      "sex_female                              0.009576          -0.141814   \n",
      "sex_male                               -0.009576           0.141814   \n",
      "cp_asymptomatic                        -0.244447           0.097829   \n",
      "cp_atypical_angina                      0.227093          -0.037662   \n",
      "cp_nonanginal_pain                      0.108735          -0.096559   \n",
      "cp_typical_angina                      -0.043529           0.032708   \n",
      "restecg_STT_wave_abnormality           -0.108740           0.093003   \n",
      "restecg_normal                          0.160357          -0.056143   \n",
      "restecg_ventricular_hypertrophy        -0.135461           0.034821   \n",
      "slope_downsloping                      -0.256632           0.095719   \n",
      "slope_flat                             -0.869158           0.131167   \n",
      "slope_upsloping                         1.000000          -0.180060   \n",
      "thal_fixed_defect                      -0.180060           1.000000   \n",
      "thal_normal                             0.322329          -0.279310   \n",
      "thal_reversable_defect                 -0.241097          -0.202013   \n",
      "\n",
      "                                 thal_normal  thal_reversable_defect  \n",
      "age                                -0.133464                0.105812  \n",
      "trestbps                           -0.144136                0.109826  \n",
      "chol                               -0.005651                0.052695  \n",
      "fbs                                -0.079545                0.035545  \n",
      "thalach                             0.290438               -0.217903  \n",
      "exang                              -0.327159                0.302803  \n",
      "oldpeak                            -0.342562                0.299053  \n",
      "ca                                 -0.241932                0.212958  \n",
      "target                              0.529301               -0.488014  \n",
      "sex_female                          0.385299               -0.323946  \n",
      "sex_male                           -0.385299                0.323946  \n",
      "cp_asymptomatic                    -0.350252                0.309615  \n",
      "cp_atypical_angina                  0.206755               -0.192547  \n",
      "cp_nonanginal_pain                  0.211884               -0.169102  \n",
      "cp_typical_angina                   0.008814               -0.024916  \n",
      "restecg_STT_wave_abnormality       -0.011683               -0.033367  \n",
      "restecg_normal                      0.033501               -0.006834  \n",
      "restecg_ventricular_hypertrophy    -0.030832                0.014493  \n",
      "slope_downsloping                  -0.093224                0.048481  \n",
      "slope_flat                         -0.274780                0.216404  \n",
      "slope_upsloping                     0.322329               -0.241097  \n",
      "thal_fixed_defect                  -0.279310               -0.202013  \n",
      "thal_normal                         1.000000               -0.883980  \n",
      "thal_reversable_defect             -0.883980                1.000000  \n",
      "\n",
      "[24 rows x 24 columns]\n"
     ]
    }
   ],
   "source": [
    "# Correlation Matrix\n",
    "corrMatrix = heartdf.corr()\n",
    "print(corrMatrix)\n"
   ]
  },
  {
   "cell_type": "code",
   "execution_count": 82,
   "metadata": {},
   "outputs": [
    {
     "data": {
      "image/png": "[encoded data removed]",
      "text/plain": [
       "<Figure size 1440x1080 with 2 Axes>"
      ]
     },
     "metadata": {
      "needs_background": "light"
     },
     "output_type": "display_data"
    }
   ],
   "source": [
    "plt.subplots(figsize=(20,15))\n",
    "heatmap = sns.heatmap(corrMatrix, cmap = 'coolwarm')"
   ]
  },
  {
   "cell_type": "markdown",
   "metadata": {},
   "source": [
    "## Top 10 correlated pairs"
   ]
  },
  {
   "cell_type": "code",
   "execution_count": 129,
   "metadata": {},
   "outputs": [
    {
     "name": "stdout",
     "output_type": "stream",
     "text": [
      "Top Absolute Correlations\n",
      "sex_female       sex_male                           1.000000\n",
      "restecg_normal   restecg_ventricular_hypertrophy    0.973680\n",
      "thal_normal      thal_reversable_defect             0.883980\n",
      "slope_flat       slope_upsloping                    0.869158\n",
      "cp_asymptomatic  cp_nonanginal_pain                 0.596082\n",
      "target           thal_normal                        0.529301\n",
      "                 cp_asymptomatic                    0.511360\n",
      "oldpeak          slope_upsloping                    0.509149\n",
      "target           thal_reversable_defect             0.488014\n",
      "exang            cp_asymptomatic                    0.464253\n",
      "dtype: float64\n"
     ]
    }
   ],
   "source": [
    "# Getting the top 10 correlated pairs \n",
    "\n",
    "# Get top x correlation pairs\n",
    "def get_redundant_pairs(df):\n",
    "    '''Get diagonal and lower triangular pairs of correlation matrix'''\n",
    "    pairs_to_drop = set()\n",
    "    cols = df.columns\n",
    "    for i in range(0, df.shape[1]):\n",
    "        for j in range(0, i+1):\n",
    "            pairs_to_drop.add((cols[i], cols[j]))\n",
    "    return pairs_to_drop\n",
    "\n",
    "def get_top_abs_correlations(df, n=5):\n",
    "    au_corr = df.corr().abs().unstack()\n",
    "    labels_to_drop = get_redundant_pairs(df)\n",
    "    au_corr = au_corr.drop(labels=labels_to_drop).sort_values(ascending=False)\n",
    "    return au_corr[0:n]\n",
    "\n",
    "print(\"Top Absolute Correlations\")\n",
    "print(get_top_abs_correlations(heartdf, 10))"
   ]
  },
  {
   "cell_type": "markdown",
   "metadata": {},
   "source": [
    "## Correlation pairs with dependent variable (target)"
   ]
  },
  {
   "cell_type": "code",
   "execution_count": 16,
   "metadata": {},
   "outputs": [
    {
     "name": "stdout",
     "output_type": "stream",
     "text": [
      "Absolute Correlations with dependent variable\n",
      "age                               -0.222752\n",
      "trestbps                          -0.146902\n",
      "chol                              -0.083037\n",
      "fbs                               -0.017150\n",
      "thalach                            0.428683\n",
      "exang                             -0.431575\n",
      "oldpeak                           -0.428568\n",
      "ca                                -0.411488\n",
      "target                             1.000000\n",
      "sex_female                         0.278841\n",
      "sex_male                          -0.278841\n",
      "cp_asymptomatic                   -0.511360\n",
      "cp_atypical_angina                 0.248393\n",
      "cp_nonanginal_pain                 0.309136\n",
      "cp_typical_angina                  0.088114\n",
      "restecg_STT_wave_abnormality      -0.068456\n",
      "restecg_normal                     0.180680\n",
      "restecg_ventricular_hypertrophy   -0.165035\n",
      "slope_downsloping                 -0.063208\n",
      "slope_flat                        -0.355938\n",
      "slope_upsloping                    0.388098\n",
      "thal_fixed_defect                 -0.106512\n",
      "thal_normal                        0.529301\n",
      "thal_reversable_defect            -0.488014\n",
      "Name: target, dtype: float64\n"
     ]
    }
   ],
   "source": [
    "print(\"Absolute Correlations with dependent variable\")\n",
    "target_corr = heartdf.corr()['target'][:]\n",
    "print(target_corr)"
   ]
  },
  {
   "cell_type": "markdown",
   "metadata": {},
   "source": [
    "#### No variable has high correlation with target variable. There is no need to eliminate any of these."
   ]
  },
  {
   "cell_type": "markdown",
   "metadata": {},
   "source": [
    "## Covariance Matrix"
   ]
  },
  {
   "cell_type": "code",
   "execution_count": 17,
   "metadata": {},
   "outputs": [
    {
     "name": "stdout",
     "output_type": "stream",
     "text": [
      "                                       age    trestbps         chol       fbs  \\\n",
      "age                              82.386845   45.245931    97.188517  0.394426   \n",
      "trestbps                         45.245931  310.448785   113.729944  1.131862   \n",
      "chol                             97.188517  113.729944  2687.127882  0.318707   \n",
      "fbs                               0.394426    1.131862     0.318707  0.125574   \n",
      "thalach                         -82.565998  -19.788317    -8.969643 -0.094270   \n",
      "exang                             0.403122    0.573868     1.632620  0.002096   \n",
      "oldpeak                           2.174359    3.983032     2.917369  0.001494   \n",
      "ca                                2.762430    1.749208     4.380256  0.054091   \n",
      "target                           -1.008807   -1.291460    -2.147703 -0.003032   \n",
      "sex_female                        0.404125    0.479822     4.777202 -0.006466   \n",
      "sex_male                         -0.404125   -0.479822    -4.777202  0.006466   \n",
      "cp_asymptomatic                   0.610256    0.200713     1.764036 -0.012798   \n",
      "cp_atypical_angina               -0.513935   -0.539576    -0.328317 -0.007804   \n",
      "cp_nonanginal_pain               -0.206800   -0.372129    -0.696265  0.015162   \n",
      "cp_typical_angina                 0.110479    0.710992    -0.739454  0.005440   \n",
      "restecg_STT_wave_abnormality      0.087848    0.118707     0.200758 -0.001962   \n",
      "restecg_normal                   -0.709030   -1.311037    -4.433110 -0.013378   \n",
      "restecg_ventricular_hypertrophy   0.621182    1.192330     4.232352  0.015340   \n",
      "slope_downsloping                 0.066555    0.551304    -0.637492  0.009766   \n",
      "slope_flat                        0.788517    0.233757     1.256444 -0.007982   \n",
      "slope_upsloping                  -0.855072   -0.785061    -0.618952 -0.001784   \n",
      "thal_fixed_defect                 0.134448    0.320134    -1.188562  0.007893   \n",
      "thal_normal                      -0.603679   -1.265552    -0.145987 -0.014047   \n",
      "thal_reversable_defect            0.469231    0.945418     1.334548  0.006154   \n",
      "\n",
      "                                    thalach     exang   oldpeak        ca  \\\n",
      "age                              -82.565998  0.403122  2.174359  2.762430   \n",
      "trestbps                         -19.788317  0.573868  3.983032  1.749208   \n",
      "chol                              -8.969643  1.632620  2.917369  4.380256   \n",
      "fbs                               -0.094270  0.002096  0.001494  0.054091   \n",
      "thalach                          523.936444 -4.143835 -9.283902 -5.367703   \n",
      "exang                             -4.143835  0.220691  0.156611  0.060580   \n",
      "oldpeak                           -9.283902  0.156611  1.354337  0.275831   \n",
      "ca                                -5.367703  0.060580  0.275831  1.016845   \n",
      "target                             4.895909 -0.101159 -0.248852 -0.207035   \n",
      "sex_female                         0.585229 -0.030212 -0.051282 -0.052564   \n",
      "sex_male                          -0.585229  0.030212  0.051282  0.052564   \n",
      "cp_asymptomatic                   -4.385262  0.109075  0.161115  0.118016   \n",
      "cp_atypical_angina                 2.133222 -0.041249 -0.122185 -0.050725   \n",
      "cp_nonanginal_pain                 1.767949 -0.056076 -0.065440 -0.048439   \n",
      "cp_typical_angina                  0.484091 -0.011750  0.026511 -0.018852   \n",
      "restecg_STT_wave_abnormality      -0.319911  0.002319  0.022453  0.003701   \n",
      "restecg_normal                     1.068562 -0.023411 -0.081271 -0.051839   \n",
      "restecg_ventricular_hypertrophy   -0.748651  0.021093  0.058818  0.048138   \n",
      "slope_downsloping                 -0.334214  0.007157  0.117124 -0.010669   \n",
      "slope_flat                        -4.876934  0.058841  0.178974  0.078450   \n",
      "slope_upsloping                    5.211148 -0.065998 -0.296098 -0.067781   \n",
      "thal_fixed_defect                 -0.876054  0.007090  0.028629  0.016656   \n",
      "thal_normal                        3.312876 -0.076589 -0.198662 -0.121572   \n",
      "thal_reversable_defect            -2.436823  0.069498  0.170033  0.104916   \n",
      "\n",
      "                                   target  sex_female  ...  cp_typical_angina  \\\n",
      "age                             -1.008807    0.404125  ...           0.110479   \n",
      "trestbps                        -1.291460    0.479822  ...           0.710992   \n",
      "chol                            -2.147703    4.777202  ...          -0.739454   \n",
      "fbs                             -0.003032   -0.006466  ...           0.005440   \n",
      "thalach                          4.895909    0.585229  ...           0.484091   \n",
      "exang                           -0.101159   -0.030212  ...          -0.011750   \n",
      "oldpeak                         -0.248852   -0.051282  ...           0.026511   \n",
      "ca                              -0.207035   -0.052564  ...          -0.018852   \n",
      "target                           0.248952    0.064827  ...           0.011717   \n",
      "sex_female                       0.064827    0.217113  ...          -0.010981   \n",
      "sex_male                        -0.064827   -0.217113  ...           0.010981   \n",
      "cp_asymptomatic                 -0.127603   -0.019955  ...          -0.036410   \n",
      "cp_atypical_angina               0.046265    0.007246  ...          -0.012821   \n",
      "cp_nonanginal_pain               0.069621    0.023690  ...          -0.021795   \n",
      "cp_typical_angina                0.011717   -0.010981  ...           0.071026   \n",
      "restecg_STT_wave_abnormality    -0.003924    0.005797  ...          -0.001026   \n",
      "restecg_normal                   0.045151    0.005017  ...          -0.008361   \n",
      "restecg_ventricular_hypertrophy -0.041226   -0.010814  ...           0.009387   \n",
      "slope_downsloping               -0.008060   -0.005518  ...           0.004649   \n",
      "slope_flat                      -0.088707    0.003289  ...           0.001148   \n",
      "slope_upsloping                  0.096767    0.002230  ...          -0.005797   \n",
      "thal_fixed_defect               -0.012642   -0.015719  ...           0.002074   \n",
      "thal_normal                      0.131605    0.089465  ...           0.001171   \n",
      "thal_reversable_defect          -0.118963   -0.073746  ...          -0.003244   \n",
      "\n",
      "                                 restecg_STT_wave_abnormality  restecg_normal  \\\n",
      "age                                                  0.087848       -0.709030   \n",
      "trestbps                                             0.118707       -1.311037   \n",
      "chol                                                 0.200758       -4.433110   \n",
      "fbs                                                 -0.001962       -0.013378   \n",
      "thalach                                             -0.319911        1.068562   \n",
      "exang                                                0.002319       -0.023411   \n",
      "oldpeak                                              0.022453       -0.081271   \n",
      "ca                                                   0.003701       -0.051839   \n",
      "target                                              -0.003924        0.045151   \n",
      "sex_female                                           0.005797        0.005017   \n",
      "sex_male                                            -0.005797       -0.005017   \n",
      "cp_asymptomatic                                      0.003701       -0.033445   \n",
      "cp_atypical_angina                                  -0.002230        0.020067   \n",
      "cp_nonanginal_pain                                  -0.000446        0.021739   \n",
      "cp_typical_angina                                   -0.001026       -0.008361   \n",
      "restecg_STT_wave_abnormality                         0.013200       -0.006689   \n",
      "restecg_normal                                      -0.006689        0.250836   \n",
      "restecg_ventricular_hypertrophy                     -0.006511       -0.244147   \n",
      "slope_downsloping                                    0.002408       -0.008361   \n",
      "slope_flat                                           0.003835       -0.031773   \n",
      "slope_upsloping                                     -0.006243        0.040134   \n",
      "thal_fixed_defect                                    0.002542       -0.006689   \n",
      "thal_normal                                         -0.000669        0.008361   \n",
      "thal_reversable_defect                              -0.001873       -0.001672   \n",
      "\n",
      "                                 restecg_ventricular_hypertrophy  \\\n",
      "age                                                     0.621182   \n",
      "trestbps                                                1.192330   \n",
      "chol                                                    4.232352   \n",
      "fbs                                                     0.015340   \n",
      "thalach                                                -0.748651   \n",
      "exang                                                   0.021093   \n",
      "oldpeak                                                 0.058818   \n",
      "ca                                                      0.048138   \n",
      "target                                                 -0.041226   \n",
      "sex_female                                             -0.010814   \n",
      "sex_male                                                0.010814   \n",
      "cp_asymptomatic                                         0.029744   \n",
      "cp_atypical_angina                                     -0.017837   \n",
      "cp_nonanginal_pain                                     -0.021293   \n",
      "cp_typical_angina                                       0.009387   \n",
      "restecg_STT_wave_abnormality                           -0.006511   \n",
      "restecg_normal                                         -0.244147   \n",
      "restecg_ventricular_hypertrophy                         0.250658   \n",
      "slope_downsloping                                       0.005953   \n",
      "slope_flat                                              0.027938   \n",
      "slope_upsloping                                        -0.033891   \n",
      "thal_fixed_defect                                       0.004147   \n",
      "thal_normal                                            -0.007692   \n",
      "thal_reversable_defect                                  0.003545   \n",
      "\n",
      "                                 slope_downsloping  slope_flat  \\\n",
      "age                                       0.066555    0.788517   \n",
      "trestbps                                  0.551304    0.233757   \n",
      "chol                                     -0.637492    1.256444   \n",
      "fbs                                       0.009766   -0.007982   \n",
      "thalach                                  -0.334214   -4.876934   \n",
      "exang                                     0.007157    0.058841   \n",
      "oldpeak                                   0.117124    0.178974   \n",
      "ca                                       -0.010669    0.078450   \n",
      "target                                   -0.008060   -0.088707   \n",
      "sex_female                               -0.005518    0.003289   \n",
      "sex_male                                  0.005518   -0.003289   \n",
      "cp_asymptomatic                           0.003545    0.057547   \n",
      "cp_atypical_angina                       -0.005017   -0.037347   \n",
      "cp_nonanginal_pain                       -0.003177   -0.021349   \n",
      "cp_typical_angina                         0.004649    0.001148   \n",
      "restecg_STT_wave_abnormality              0.002408    0.003835   \n",
      "restecg_normal                           -0.008361   -0.031773   \n",
      "restecg_ventricular_hypertrophy           0.005953    0.027938   \n",
      "slope_downsloping                         0.065318   -0.032542   \n",
      "slope_flat                               -0.032542    0.249487   \n",
      "slope_upsloping                          -0.032776   -0.216945   \n",
      "thal_fixed_defect                         0.005819    0.015585   \n",
      "thal_normal                              -0.011873   -0.068395   \n",
      "thal_reversable_defect                    0.006054    0.052809   \n",
      "\n",
      "                                 slope_upsloping  thal_fixed_defect  \\\n",
      "age                                    -0.855072           0.134448   \n",
      "trestbps                               -0.785061           0.320134   \n",
      "chol                                   -0.618952          -1.188562   \n",
      "fbs                                    -0.001784           0.007893   \n",
      "thalach                                 5.211148          -0.876054   \n",
      "exang                                  -0.065998           0.007090   \n",
      "oldpeak                                -0.296098           0.028629   \n",
      "ca                                     -0.067781           0.016656   \n",
      "target                                  0.096767          -0.012642   \n",
      "sex_female                              0.002230          -0.015719   \n",
      "sex_male                               -0.002230           0.015719   \n",
      "cp_asymptomatic                        -0.061093           0.011639   \n",
      "cp_atypical_angina                      0.042363          -0.003344   \n",
      "cp_nonanginal_pain                      0.024526          -0.010368   \n",
      "cp_typical_angina                      -0.005797           0.002074   \n",
      "restecg_STT_wave_abnormality           -0.006243           0.002542   \n",
      "restecg_normal                          0.040134          -0.006689   \n",
      "restecg_ventricular_hypertrophy        -0.033891           0.004147   \n",
      "slope_downsloping                      -0.032776           0.005819   \n",
      "slope_flat                             -0.216945           0.015585   \n",
      "slope_upsloping                         0.249721          -0.021405   \n",
      "thal_fixed_defect                      -0.021405           0.056589   \n",
      "thal_normal                             0.080268          -0.033110   \n",
      "thal_reversable_defect                 -0.058863          -0.023478   \n",
      "\n",
      "                                 thal_normal  thal_reversable_defect  \n",
      "age                                -0.603679                0.469231  \n",
      "trestbps                           -1.265552                0.945418  \n",
      "chol                               -0.145987                1.334548  \n",
      "fbs                                -0.014047                0.006154  \n",
      "thalach                             3.312876               -2.436823  \n",
      "exang                              -0.076589                0.069498  \n",
      "oldpeak                            -0.198662                0.170033  \n",
      "ca                                 -0.121572                0.104916  \n",
      "target                              0.131605               -0.118963  \n",
      "sex_female                          0.089465               -0.073746  \n",
      "sex_male                           -0.089465                0.073746  \n",
      "cp_asymptomatic                    -0.087291                0.075652  \n",
      "cp_atypical_angina                  0.038462               -0.035117  \n",
      "cp_nonanginal_pain                  0.047659               -0.037291  \n",
      "cp_typical_angina                   0.001171               -0.003244  \n",
      "restecg_STT_wave_abnormality       -0.000669               -0.001873  \n",
      "restecg_normal                      0.008361               -0.001672  \n",
      "restecg_ventricular_hypertrophy    -0.007692                0.003545  \n",
      "slope_downsloping                  -0.011873                0.006054  \n",
      "slope_flat                         -0.068395                0.052809  \n",
      "slope_upsloping                     0.080268               -0.058863  \n",
      "thal_fixed_defect                  -0.033110               -0.023478  \n",
      "thal_normal                         0.248328               -0.215217  \n",
      "thal_reversable_defect             -0.215217                0.238696  \n",
      "\n",
      "[24 rows x 24 columns]\n"
     ]
    }
   ],
   "source": [
    "covMatrix = heartdf.cov()\n",
    "print(covMatrix)"
   ]
  },
  {
   "cell_type": "code",
   "execution_count": 18,
   "metadata": {},
   "outputs": [
    {
     "name": "stdout",
     "output_type": "stream",
     "text": [
      "<class 'pandas.core.frame.DataFrame'>\n",
      "Int64Index: 300 entries, 0 to 302\n",
      "Data columns (total 24 columns):\n",
      " #   Column                           Non-Null Count  Dtype  \n",
      "---  ------                           --------------  -----  \n",
      " 0   age                              300 non-null    int64  \n",
      " 1   trestbps                         300 non-null    int64  \n",
      " 2   chol                             300 non-null    int64  \n",
      " 3   fbs                              300 non-null    int64  \n",
      " 4   thalach                          300 non-null    int64  \n",
      " 5   exang                            300 non-null    int64  \n",
      " 6   oldpeak                          300 non-null    float64\n",
      " 7   ca                               300 non-null    int64  \n",
      " 8   target                           300 non-null    int64  \n",
      " 9   sex_female                       300 non-null    uint8  \n",
      " 10  sex_male                         300 non-null    uint8  \n",
      " 11  cp_asymptomatic                  300 non-null    uint8  \n",
      " 12  cp_atypical_angina               300 non-null    uint8  \n",
      " 13  cp_nonanginal_pain               300 non-null    uint8  \n",
      " 14  cp_typical_angina                300 non-null    uint8  \n",
      " 15  restecg_STT_wave_abnormality     300 non-null    uint8  \n",
      " 16  restecg_normal                   300 non-null    uint8  \n",
      " 17  restecg_ventricular_hypertrophy  300 non-null    uint8  \n",
      " 18  slope_downsloping                300 non-null    uint8  \n",
      " 19  slope_flat                       300 non-null    uint8  \n",
      " 20  slope_upsloping                  300 non-null    uint8  \n",
      " 21  thal_fixed_defect                300 non-null    uint8  \n",
      " 22  thal_normal                      300 non-null    uint8  \n",
      " 23  thal_reversable_defect           300 non-null    uint8  \n",
      "dtypes: float64(1), int64(8), uint8(15)\n",
      "memory usage: 37.8 KB\n"
     ]
    }
   ],
   "source": [
    "heartdf.info()"
   ]
  },
  {
   "cell_type": "markdown",
   "metadata": {},
   "source": [
    "## Convert columns to categorical values"
   ]
  },
  {
   "cell_type": "code",
   "execution_count": 19,
   "metadata": {},
   "outputs": [],
   "source": [
    "for column in ['target', 'sex_female', 'sex_male','cp_asymptomatic', 'cp_atypical_angina', 'cp_nonanginal_pain', 'cp_typical_angina', \n",
    "              'restecg_STT_wave_abnormality', 'restecg_normal', 'restecg_ventricular_hypertrophy', 'slope_downsloping', 'slope_flat',\n",
    "              'slope_upsloping', 'thal_fixed_defect', 'thal_normal', 'thal_reversable_defect', 'fbs', 'exang']:\n",
    "    heartdf[column] = heartdf[column].astype('category')"
   ]
  },
  {
   "cell_type": "code",
   "execution_count": 20,
   "metadata": {},
   "outputs": [
    {
     "name": "stdout",
     "output_type": "stream",
     "text": [
      "<class 'pandas.core.frame.DataFrame'>\n",
      "Int64Index: 300 entries, 0 to 302\n",
      "Data columns (total 24 columns):\n",
      " #   Column                           Non-Null Count  Dtype   \n",
      "---  ------                           --------------  -----   \n",
      " 0   age                              300 non-null    int64   \n",
      " 1   trestbps                         300 non-null    int64   \n",
      " 2   chol                             300 non-null    int64   \n",
      " 3   fbs                              300 non-null    category\n",
      " 4   thalach                          300 non-null    int64   \n",
      " 5   exang                            300 non-null    category\n",
      " 6   oldpeak                          300 non-null    float64 \n",
      " 7   ca                               300 non-null    int64   \n",
      " 8   target                           300 non-null    category\n",
      " 9   sex_female                       300 non-null    category\n",
      " 10  sex_male                         300 non-null    category\n",
      " 11  cp_asymptomatic                  300 non-null    category\n",
      " 12  cp_atypical_angina               300 non-null    category\n",
      " 13  cp_nonanginal_pain               300 non-null    category\n",
      " 14  cp_typical_angina                300 non-null    category\n",
      " 15  restecg_STT_wave_abnormality     300 non-null    category\n",
      " 16  restecg_normal                   300 non-null    category\n",
      " 17  restecg_ventricular_hypertrophy  300 non-null    category\n",
      " 18  slope_downsloping                300 non-null    category\n",
      " 19  slope_flat                       300 non-null    category\n",
      " 20  slope_upsloping                  300 non-null    category\n",
      " 21  thal_fixed_defect                300 non-null    category\n",
      " 22  thal_normal                      300 non-null    category\n",
      " 23  thal_reversable_defect           300 non-null    category\n",
      "dtypes: category(18), float64(1), int64(5)\n",
      "memory usage: 33.4 KB\n"
     ]
    }
   ],
   "source": [
    "heartdf.info()"
   ]
  },
  {
   "cell_type": "code",
   "execution_count": 21,
   "metadata": {},
   "outputs": [
    {
     "name": "stdout",
     "output_type": "stream",
     "text": [
      "<class 'pandas.core.frame.DataFrame'>\n",
      "Int64Index: 300 entries, 0 to 302\n",
      "Data columns (total 24 columns):\n",
      " #   Column                           Non-Null Count  Dtype   \n",
      "---  ------                           --------------  -----   \n",
      " 0   age                              300 non-null    int64   \n",
      " 1   trestbps                         300 non-null    int64   \n",
      " 2   chol                             300 non-null    int64   \n",
      " 3   fbs                              300 non-null    category\n",
      " 4   thalach                          300 non-null    int64   \n",
      " 5   exang                            300 non-null    category\n",
      " 6   oldpeak                          300 non-null    int64   \n",
      " 7   ca                               300 non-null    int64   \n",
      " 8   target                           300 non-null    category\n",
      " 9   sex_female                       300 non-null    category\n",
      " 10  sex_male                         300 non-null    category\n",
      " 11  cp_asymptomatic                  300 non-null    category\n",
      " 12  cp_atypical_angina               300 non-null    category\n",
      " 13  cp_nonanginal_pain               300 non-null    category\n",
      " 14  cp_typical_angina                300 non-null    category\n",
      " 15  restecg_STT_wave_abnormality     300 non-null    category\n",
      " 16  restecg_normal                   300 non-null    category\n",
      " 17  restecg_ventricular_hypertrophy  300 non-null    category\n",
      " 18  slope_downsloping                300 non-null    category\n",
      " 19  slope_flat                       300 non-null    category\n",
      " 20  slope_upsloping                  300 non-null    category\n",
      " 21  thal_fixed_defect                300 non-null    category\n",
      " 22  thal_normal                      300 non-null    category\n",
      " 23  thal_reversable_defect           300 non-null    category\n",
      "dtypes: category(18), int64(6)\n",
      "memory usage: 33.4 KB\n"
     ]
    }
   ],
   "source": [
    "# Converting oldpeak to an int value\n",
    "heartdf['oldpeak'] = 10*heartdf['oldpeak']\n",
    "heartdf['oldpeak'] = heartdf['oldpeak'].astype('int64')\n",
    "\n",
    "heartdf.info()"
   ]
  },
  {
   "cell_type": "code",
   "execution_count": 22,
   "metadata": {},
   "outputs": [],
   "source": [
    "heartdf.to_csv(r'C:\\Users\\quesal2\\Documents\\Personal\\Cenfotec\\Data Science with Python\\Python Project\\Heart Disease UCI\\heartdf.csv',index = False)"
   ]
  },
  {
   "cell_type": "markdown",
   "metadata": {},
   "source": [
    "# Visualizing Data"
   ]
  },
  {
   "cell_type": "code",
   "execution_count": 113,
   "metadata": {},
   "outputs": [],
   "source": [
    "import matplotlib.pyplot as plt\n",
    "import seaborn as sns\n",
    "\n",
    "# Import data for visualization\n",
    "df = pd.read_csv('heart.csv', header = 0)\n",
    "\n",
    "# Drop unwanted rows\n",
    "df = df[df['thal'] != 0]\n",
    "df.dropna()\n",
    "df = df.drop_duplicates()\n",
    "\n",
    "# Rename variables \n",
    "# Naming variables before creating dummies\n",
    "df['sex'] = df['sex'].replace(1, 'male')\n",
    "df['sex'] = df['sex'].replace(0, 'female')\n",
    "df['thal'] = df['thal'].replace(1, 'fixed_defect')\n",
    "df['thal'] = df['thal'].replace(2, 'normal')\n",
    "df['thal'] = df['thal'].replace(3, 'reversable_defect')\n",
    "df['cp'] = df['cp'].replace(0, 'asymptomatic')\n",
    "df['cp'] = df['cp'].replace(1, 'atypical_angina')\n",
    "df['cp'] = df['cp'].replace(2, 'nonanginal_pain')\n",
    "df['cp'] = df['cp'].replace(3, 'typical_angina')\n",
    "df['restecg'] = df['restecg'].replace(0, 'ventricular_hypertrophy')\n",
    "df['restecg'] = df['restecg'].replace(1, 'normal')\n",
    "df['restecg'] = df['restecg'].replace(2, 'STT_wave_abnormality')\n",
    "df['slope'] = df['slope'].replace(0, 'downsloping')\n",
    "df['slope'] = df['slope'].replace(1, 'flat')\n",
    "df['slope'] = df['slope'].replace(2, 'upsloping')\n",
    "df['target'] = df['target'].replace(0, 'heart_disease')\n",
    "df['target'] = df['target'].replace(1, 'asymptomatic')"
   ]
  },
  {
   "cell_type": "markdown",
   "metadata": {},
   "source": [
    "## Bar graphs"
   ]
  },
  {
   "cell_type": "code",
   "execution_count": 114,
   "metadata": {},
   "outputs": [
    {
     "data": {
      "image/png": "[encoded data removed]",
      "text/plain": [
       "<Figure size 1080x360 with 1 Axes>"
      ]
     },
     "metadata": {
      "needs_background": "light"
     },
     "output_type": "display_data"
    }
   ],
   "source": [
    "# Bar graph for age category\n",
    "age_plot = sns.catplot('age', data = df, kind = \"count\", aspect = 3, palette=\"colorblind\")"
   ]
  },
  {
   "cell_type": "code",
   "execution_count": 115,
   "metadata": {},
   "outputs": [
    {
     "data": {
      "image/png": "[encoded data removed]",
      "text/plain": [
       "<Figure size 360x360 with 1 Axes>"
      ]
     },
     "metadata": {
      "needs_background": "light"
     },
     "output_type": "display_data"
    }
   ],
   "source": [
    "# Bar graph for sex category (Gender (1 = male; 0 = female))\n",
    "sex_plot = sns.catplot('sex', data = df, kind = \"count\", aspect = 1, palette=\"colorblind\")"
   ]
  },
  {
   "cell_type": "code",
   "execution_count": 116,
   "metadata": {},
   "outputs": [
    {
     "data": {
      "image/png": "[encoded data removed]",
      "text/plain": [
       "<Figure size 360x360 with 1 Axes>"
      ]
     },
     "metadata": {
      "needs_background": "light"
     },
     "output_type": "display_data"
    }
   ],
   "source": [
    "# Bar graph for target category (Gender (1 = male; 0 = female))\n",
    "target_plot = sns.catplot('target', data = df, kind = \"count\", aspect = 1, palette=\"colorblind\")"
   ]
  },
  {
   "cell_type": "code",
   "execution_count": 117,
   "metadata": {},
   "outputs": [
    {
     "data": {
      "text/plain": [
       "<seaborn.axisgrid.FacetGrid at 0x1bbc7d0e148>"
      ]
     },
     "execution_count": 117,
     "metadata": {},
     "output_type": "execute_result"
    },
    {
     "data": {
      "image/png": "[encoded data removed]",
      "text/plain": [
       "<Figure size 827x720 with 1 Axes>"
      ]
     },
     "metadata": {
      "needs_background": "light"
     },
     "output_type": "display_data"
    }
   ],
   "source": [
    "sns.catplot('age', kind='count', hue='target', data=df, palette='colorblind', height=10, aspect=1)"
   ]
  },
  {
   "cell_type": "code",
   "execution_count": 118,
   "metadata": {},
   "outputs": [
    {
     "data": {
      "text/plain": [
       "<seaborn.axisgrid.FacetGrid at 0x1bbc7fdfbc8>"
      ]
     },
     "execution_count": 118,
     "metadata": {},
     "output_type": "execute_result"
    },
    {
     "data": {
      "image/png": "[encoded data removed]",
      "text/plain": [
       "<Figure size 395x360 with 1 Axes>"
      ]
     },
     "metadata": {
      "needs_background": "light"
     },
     "output_type": "display_data"
    }
   ],
   "source": [
    "sns.catplot('sex', kind='count', hue='target', data=df, palette='colorblind', height=5, aspect=0.8)"
   ]
  },
  {
   "cell_type": "code",
   "execution_count": 119,
   "metadata": {},
   "outputs": [
    {
     "data": {
      "text/plain": [
       "<seaborn.axisgrid.FacetGrid at 0x1bbc792f588>"
      ]
     },
     "execution_count": 119,
     "metadata": {},
     "output_type": "execute_result"
    },
    {
     "data": {
      "image/png": "[encoded data removed]",
      "text/plain": [
       "<Figure size 647x360 with 1 Axes>"
      ]
     },
     "metadata": {
      "needs_background": "light"
     },
     "output_type": "display_data"
    }
   ],
   "source": [
    "sns.catplot('cp', kind='count', hue='target', data=df, palette='colorblind', height=5, aspect=1.5)"
   ]
  },
  {
   "cell_type": "code",
   "execution_count": 120,
   "metadata": {},
   "outputs": [
    {
     "data": {
      "text/plain": [
       "<seaborn.axisgrid.FacetGrid at 0x1bbc78fc548>"
      ]
     },
     "execution_count": 120,
     "metadata": {},
     "output_type": "execute_result"
    },
    {
     "data": {
      "image/png": "[encoded data removed]",
      "text/plain": [
       "<Figure size 1187x360 with 1 Axes>"
      ]
     },
     "metadata": {
      "needs_background": "light"
     },
     "output_type": "display_data"
    }
   ],
   "source": [
    "sns.catplot('thalach', kind='count', hue='target', data=df, palette='colorblind', height=5, aspect=3)"
   ]
  },
  {
   "cell_type": "code",
   "execution_count": 121,
   "metadata": {},
   "outputs": [
    {
     "data": {
      "text/plain": [
       "<seaborn.axisgrid.FacetGrid at 0x1bbcdc722c8>"
      ]
     },
     "execution_count": 121,
     "metadata": {},
     "output_type": "execute_result"
    },
    {
     "data": {
      "image/png": "[encoded data removed]",
      "text/plain": [
       "<Figure size 467x360 with 1 Axes>"
      ]
     },
     "metadata": {
      "needs_background": "light"
     },
     "output_type": "display_data"
    }
   ],
   "source": [
    "sns.catplot('slope', kind='count', hue='target', data=df, palette='colorblind', height=5, aspect=1)"
   ]
  },
  {
   "cell_type": "code",
   "execution_count": 122,
   "metadata": {},
   "outputs": [
    {
     "data": {
      "text/plain": [
       "<seaborn.axisgrid.FacetGrid at 0x1bbcdcdefc8>"
      ]
     },
     "execution_count": 122,
     "metadata": {},
     "output_type": "execute_result"
    },
    {
     "data": {
      "image/png": "[encoded data removed]",
      "text/plain": [
       "<Figure size 1187x360 with 1 Axes>"
      ]
     },
     "metadata": {
      "needs_background": "light"
     },
     "output_type": "display_data"
    }
   ],
   "source": [
    "sns.catplot('trestbps', kind='count', hue='target', data=df, palette='colorblind', height=5, aspect=3)"
   ]
  },
  {
   "cell_type": "code",
   "execution_count": 123,
   "metadata": {},
   "outputs": [
    {
     "data": {
      "text/plain": [
       "<seaborn.axisgrid.FacetGrid at 0x1bbce27d7c8>"
      ]
     },
     "execution_count": 123,
     "metadata": {},
     "output_type": "execute_result"
    },
    {
     "data": {
      "image/png": "[encoded data removed]",
      "text/plain": [
       "<Figure size 467x360 with 1 Axes>"
      ]
     },
     "metadata": {
      "needs_background": "light"
     },
     "output_type": "display_data"
    }
   ],
   "source": [
    "sns.catplot('restecg', kind='count', hue='target', data=df, palette='colorblind', height=5, aspect=1)"
   ]
  },
  {
   "cell_type": "code",
   "execution_count": 124,
   "metadata": {},
   "outputs": [
    {
     "data": {
      "text/plain": [
       "<seaborn.axisgrid.FacetGrid at 0x1bbcfbc7b08>"
      ]
     },
     "execution_count": 124,
     "metadata": {},
     "output_type": "execute_result"
    },
    {
     "data": {
      "image/png": "[encoded data removed]",
      "text/plain": [
       "<Figure size 1187x360 with 1 Axes>"
      ]
     },
     "metadata": {
      "needs_background": "light"
     },
     "output_type": "display_data"
    }
   ],
   "source": [
    "sns.catplot('thal', kind='count', hue='target', data=df, palette='colorblind', height=5, aspect=3)"
   ]
  },
  {
   "cell_type": "markdown",
   "metadata": {},
   "source": [
    "## Scatter Plots"
   ]
  },
  {
   "cell_type": "code",
   "execution_count": 125,
   "metadata": {},
   "outputs": [
    {
     "data": {
      "image/png": "[encoded data removed]",
      "text/plain": [
       "<Figure size 360x576 with 1 Axes>"
      ]
     },
     "metadata": {
      "needs_background": "light"
     },
     "output_type": "display_data"
    }
   ],
   "source": [
    "plt.figure(figsize=(5,8))\n",
    "sns.scatterplot(x=df['sex'],y=df['age'],hue=df['target'])\n",
    "plt.xlabel('sex')\n",
    "plt.ylabel('age')\n",
    "plt.show()"
   ]
  },
  {
   "cell_type": "code",
   "execution_count": 126,
   "metadata": {},
   "outputs": [
    {
     "data": {
      "image/png": "[encoded data removed]",
      "text/plain": [
       "<Figure size 576x576 with 1 Axes>"
      ]
     },
     "metadata": {
      "needs_background": "light"
     },
     "output_type": "display_data"
    }
   ],
   "source": [
    "plt.figure(figsize=(8,8))\n",
    "sns.scatterplot(x=df['cp'],y=df['age'],hue=df['target'])\n",
    "plt.xlabel('cp')\n",
    "plt.ylabel('age')\n",
    "plt.show()"
   ]
  },
  {
   "cell_type": "code",
   "execution_count": 127,
   "metadata": {},
   "outputs": [
    {
     "data": {
      "image/png": "[encoded data removed]",
      "text/plain": [
       "<Figure size 576x576 with 1 Axes>"
      ]
     },
     "metadata": {
      "needs_background": "light"
     },
     "output_type": "display_data"
    }
   ],
   "source": [
    "plt.figure(figsize=(8,8))\n",
    "sns.scatterplot(x=df['thal'],y=df['age'],hue=df['target'])\n",
    "plt.xlabel('thal')\n",
    "plt.ylabel('age')\n",
    "plt.show()"
   ]
  },
  {
   "cell_type": "code",
   "execution_count": 128,
   "metadata": {},
   "outputs": [
    {
     "data": {
      "image/png": "[encoded data removed]",
      "text/plain": [
       "<Figure size 576x576 with 1 Axes>"
      ]
     },
     "metadata": {
      "needs_background": "light"
     },
     "output_type": "display_data"
    }
   ],
   "source": [
    "plt.figure(figsize=(8,8))\n",
    "sns.scatterplot(x=df['age'],y=df['thalach'],hue=df['target'])\n",
    "plt.xlabel('age')\n",
    "plt.ylabel('thalach')\n",
    "plt.show()"
   ]
  },
  {
   "cell_type": "markdown",
   "metadata": {},
   "source": [
    "# Building Models to Predict Heart Disease"
   ]
  },
  {
   "cell_type": "markdown",
   "metadata": {},
   "source": [
    "## Importing Packages"
   ]
  },
  {
   "cell_type": "code",
   "execution_count": 54,
   "metadata": {},
   "outputs": [],
   "source": [
    "#Imports\n",
    "#numpy,pandas,scipy, math, matplotlib\n",
    "import numpy as np\n",
    "import scipy\n",
    "from math import sqrt\n",
    "\n",
    "#estimators\n",
    "from sklearn.ensemble import RandomForestClassifier\n",
    "from sklearn.linear_model import SGDClassifier\n",
    "from sklearn.svm import SVC\n",
    "from sklearn import linear_model\n",
    "\n",
    "#model metrics\n",
    "from sklearn.metrics import mean_squared_error\n",
    "from sklearn.metrics import r2_score\n",
    "from sklearn.model_selection import cross_val_score\n",
    "\n",
    "#cross validation\n",
    "from sklearn.model_selection import train_test_split\n",
    "\n",
    "#preprocessing\n",
    "from sklearn import preprocessing\n",
    "\n",
    "import matplotlib.pyplot as plt"
   ]
  },
  {
   "cell_type": "markdown",
   "metadata": {},
   "source": [
    "## Scale Data"
   ]
  },
  {
   "cell_type": "code",
   "execution_count": 24,
   "metadata": {},
   "outputs": [
    {
     "data": {
      "text/html": [
       "<div>\n",
       "<style scoped>\n",
       "    .dataframe tbody tr th:only-of-type {\n",
       "        vertical-align: middle;\n",
       "    }\n",
       "\n",
       "    .dataframe tbody tr th {\n",
       "        vertical-align: top;\n",
       "    }\n",
       "\n",
       "    .dataframe thead th {\n",
       "        text-align: right;\n",
       "    }\n",
       "</style>\n",
       "<table border=\"1\" class=\"dataframe\">\n",
       "  <thead>\n",
       "    <tr style=\"text-align: right;\">\n",
       "      <th></th>\n",
       "      <th>age</th>\n",
       "      <th>trestbps</th>\n",
       "      <th>chol</th>\n",
       "      <th>fbs</th>\n",
       "      <th>thalach</th>\n",
       "      <th>exang</th>\n",
       "      <th>oldpeak</th>\n",
       "      <th>ca</th>\n",
       "      <th>target</th>\n",
       "      <th>sex_female</th>\n",
       "      <th>...</th>\n",
       "      <th>cp_typical_angina</th>\n",
       "      <th>restecg_STT_wave_abnormality</th>\n",
       "      <th>restecg_normal</th>\n",
       "      <th>restecg_ventricular_hypertrophy</th>\n",
       "      <th>slope_downsloping</th>\n",
       "      <th>slope_flat</th>\n",
       "      <th>slope_upsloping</th>\n",
       "      <th>thal_fixed_defect</th>\n",
       "      <th>thal_normal</th>\n",
       "      <th>thal_reversable_defect</th>\n",
       "    </tr>\n",
       "  </thead>\n",
       "  <tbody>\n",
       "    <tr>\n",
       "      <th>0</th>\n",
       "      <td>0.708333</td>\n",
       "      <td>0.481132</td>\n",
       "      <td>0.244292</td>\n",
       "      <td>1.0</td>\n",
       "      <td>0.603053</td>\n",
       "      <td>0.0</td>\n",
       "      <td>0.370968</td>\n",
       "      <td>0.0</td>\n",
       "      <td>1.0</td>\n",
       "      <td>0.0</td>\n",
       "      <td>...</td>\n",
       "      <td>1.0</td>\n",
       "      <td>0.0</td>\n",
       "      <td>0.0</td>\n",
       "      <td>1.0</td>\n",
       "      <td>1.0</td>\n",
       "      <td>0.0</td>\n",
       "      <td>0.0</td>\n",
       "      <td>1.0</td>\n",
       "      <td>0.0</td>\n",
       "      <td>0.0</td>\n",
       "    </tr>\n",
       "    <tr>\n",
       "      <th>1</th>\n",
       "      <td>0.166667</td>\n",
       "      <td>0.339623</td>\n",
       "      <td>0.283105</td>\n",
       "      <td>0.0</td>\n",
       "      <td>0.885496</td>\n",
       "      <td>0.0</td>\n",
       "      <td>0.564516</td>\n",
       "      <td>0.0</td>\n",
       "      <td>1.0</td>\n",
       "      <td>0.0</td>\n",
       "      <td>...</td>\n",
       "      <td>0.0</td>\n",
       "      <td>0.0</td>\n",
       "      <td>1.0</td>\n",
       "      <td>0.0</td>\n",
       "      <td>1.0</td>\n",
       "      <td>0.0</td>\n",
       "      <td>0.0</td>\n",
       "      <td>0.0</td>\n",
       "      <td>1.0</td>\n",
       "      <td>0.0</td>\n",
       "    </tr>\n",
       "    <tr>\n",
       "      <th>2</th>\n",
       "      <td>0.250000</td>\n",
       "      <td>0.339623</td>\n",
       "      <td>0.178082</td>\n",
       "      <td>0.0</td>\n",
       "      <td>0.770992</td>\n",
       "      <td>0.0</td>\n",
       "      <td>0.225806</td>\n",
       "      <td>0.0</td>\n",
       "      <td>1.0</td>\n",
       "      <td>1.0</td>\n",
       "      <td>...</td>\n",
       "      <td>0.0</td>\n",
       "      <td>0.0</td>\n",
       "      <td>0.0</td>\n",
       "      <td>1.0</td>\n",
       "      <td>0.0</td>\n",
       "      <td>0.0</td>\n",
       "      <td>1.0</td>\n",
       "      <td>0.0</td>\n",
       "      <td>1.0</td>\n",
       "      <td>0.0</td>\n",
       "    </tr>\n",
       "    <tr>\n",
       "      <th>3</th>\n",
       "      <td>0.562500</td>\n",
       "      <td>0.245283</td>\n",
       "      <td>0.251142</td>\n",
       "      <td>0.0</td>\n",
       "      <td>0.816794</td>\n",
       "      <td>0.0</td>\n",
       "      <td>0.129032</td>\n",
       "      <td>0.0</td>\n",
       "      <td>1.0</td>\n",
       "      <td>0.0</td>\n",
       "      <td>...</td>\n",
       "      <td>0.0</td>\n",
       "      <td>0.0</td>\n",
       "      <td>1.0</td>\n",
       "      <td>0.0</td>\n",
       "      <td>0.0</td>\n",
       "      <td>0.0</td>\n",
       "      <td>1.0</td>\n",
       "      <td>0.0</td>\n",
       "      <td>1.0</td>\n",
       "      <td>0.0</td>\n",
       "    </tr>\n",
       "    <tr>\n",
       "      <th>4</th>\n",
       "      <td>0.583333</td>\n",
       "      <td>0.245283</td>\n",
       "      <td>0.520548</td>\n",
       "      <td>0.0</td>\n",
       "      <td>0.702290</td>\n",
       "      <td>1.0</td>\n",
       "      <td>0.096774</td>\n",
       "      <td>0.0</td>\n",
       "      <td>1.0</td>\n",
       "      <td>1.0</td>\n",
       "      <td>...</td>\n",
       "      <td>0.0</td>\n",
       "      <td>0.0</td>\n",
       "      <td>1.0</td>\n",
       "      <td>0.0</td>\n",
       "      <td>0.0</td>\n",
       "      <td>0.0</td>\n",
       "      <td>1.0</td>\n",
       "      <td>0.0</td>\n",
       "      <td>1.0</td>\n",
       "      <td>0.0</td>\n",
       "    </tr>\n",
       "  </tbody>\n",
       "</table>\n",
       "<p>5 rows × 24 columns</p>\n",
       "</div>"
      ],
      "text/plain": [
       "        age  trestbps      chol  fbs   thalach  exang   oldpeak   ca  target  \\\n",
       "0  0.708333  0.481132  0.244292  1.0  0.603053    0.0  0.370968  0.0     1.0   \n",
       "1  0.166667  0.339623  0.283105  0.0  0.885496    0.0  0.564516  0.0     1.0   \n",
       "2  0.250000  0.339623  0.178082  0.0  0.770992    0.0  0.225806  0.0     1.0   \n",
       "3  0.562500  0.245283  0.251142  0.0  0.816794    0.0  0.129032  0.0     1.0   \n",
       "4  0.583333  0.245283  0.520548  0.0  0.702290    1.0  0.096774  0.0     1.0   \n",
       "\n",
       "   sex_female  ...  cp_typical_angina  restecg_STT_wave_abnormality  \\\n",
       "0         0.0  ...                1.0                           0.0   \n",
       "1         0.0  ...                0.0                           0.0   \n",
       "2         1.0  ...                0.0                           0.0   \n",
       "3         0.0  ...                0.0                           0.0   \n",
       "4         1.0  ...                0.0                           0.0   \n",
       "\n",
       "   restecg_normal  restecg_ventricular_hypertrophy  slope_downsloping  \\\n",
       "0             0.0                              1.0                1.0   \n",
       "1             1.0                              0.0                1.0   \n",
       "2             0.0                              1.0                0.0   \n",
       "3             1.0                              0.0                0.0   \n",
       "4             1.0                              0.0                0.0   \n",
       "\n",
       "   slope_flat  slope_upsloping  thal_fixed_defect  thal_normal  \\\n",
       "0         0.0              0.0                1.0          0.0   \n",
       "1         0.0              0.0                0.0          1.0   \n",
       "2         0.0              1.0                0.0          1.0   \n",
       "3         0.0              1.0                0.0          1.0   \n",
       "4         0.0              1.0                0.0          1.0   \n",
       "\n",
       "   thal_reversable_defect  \n",
       "0                     0.0  \n",
       "1                     0.0  \n",
       "2                     0.0  \n",
       "3                     0.0  \n",
       "4                     0.0  \n",
       "\n",
       "[5 rows x 24 columns]"
      ]
     },
     "execution_count": 24,
     "metadata": {},
     "output_type": "execute_result"
    }
   ],
   "source": [
    "x = heartdf.values #returns a numpy array\n",
    "min_max_scaler = preprocessing.MinMaxScaler()\n",
    "heart_scaled = min_max_scaler.fit_transform(x)\n",
    "heart_df = pd.DataFrame(heart_scaled)\n",
    "\n",
    "heartdf_scaled = pd.DataFrame(data=heart_df.values, columns=heartdf.columns)\n",
    "heartdf_scaled.head()"
   ]
  },
  {
   "cell_type": "code",
   "execution_count": 25,
   "metadata": {},
   "outputs": [
    {
     "data": {
      "text/plain": [
       "(300, 24)"
      ]
     },
     "execution_count": 25,
     "metadata": {},
     "output_type": "execute_result"
    }
   ],
   "source": [
    "heartdf_scaled.shape"
   ]
  },
  {
   "cell_type": "markdown",
   "metadata": {},
   "source": [
    "## Recursive Feature Elimination"
   ]
  },
  {
   "cell_type": "code",
   "execution_count": 145,
   "metadata": {},
   "outputs": [
    {
     "data": {
      "text/plain": [
       "RFECV(cv=StratifiedKFold(n_splits=10, random_state=None, shuffle=False),\n",
       "      estimator=RandomForestClassifier(bootstrap=True, ccp_alpha=0.0,\n",
       "                                       class_weight=None, criterion='gini',\n",
       "                                       max_depth=None, max_features='auto',\n",
       "                                       max_leaf_nodes=None, max_samples=None,\n",
       "                                       min_impurity_decrease=0.0,\n",
       "                                       min_impurity_split=None,\n",
       "                                       min_samples_leaf=1, min_samples_split=2,\n",
       "                                       min_weight_fraction_leaf=0.0,\n",
       "                                       n_estimators=100, n_jobs=None,\n",
       "                                       oob_score=False, random_state=101,\n",
       "                                       verbose=0, warm_start=False),\n",
       "      min_features_to_select=1, n_jobs=None, scoring='accuracy', step=1,\n",
       "      verbose=0)"
      ]
     },
     "execution_count": 145,
     "metadata": {},
     "output_type": "execute_result"
    }
   ],
   "source": [
    "from sklearn.ensemble import RandomForestClassifier\n",
    "from sklearn.model_selection import StratifiedKFold\n",
    "from sklearn.feature_selection import RFECV\n",
    "\n",
    "# RFECV\n",
    "X = heartdf_scaled.drop('target', axis=1)\n",
    "target = heartdf_scaled['target']\n",
    "rfc = RandomForestClassifier(random_state=101)\n",
    "rfecv = RFECV(estimator=rfc, step=1, cv=StratifiedKFold(10), scoring='accuracy')\n",
    "rfecv.fit(X, target)"
   ]
  },
  {
   "cell_type": "code",
   "execution_count": 153,
   "metadata": {},
   "outputs": [
    {
     "name": "stdout",
     "output_type": "stream",
     "text": [
      "                            Feature  Ranking\n",
      "0                               age        1\n",
      "1                          trestbps        1\n",
      "2                              chol        1\n",
      "3                               fbs        1\n",
      "4                           thalach        1\n",
      "5                             exang        1\n",
      "6                           oldpeak        1\n",
      "7                                ca        1\n",
      "8                        sex_female        1\n",
      "9                          sex_male        1\n",
      "10                  cp_asymptomatic        1\n",
      "11               cp_atypical_angina        1\n",
      "12               cp_nonanginal_pain        1\n",
      "13                cp_typical_angina        1\n",
      "14     restecg_STT_wave_abnormality        2\n",
      "15                   restecg_normal        1\n",
      "16  restecg_ventricular_hypertrophy        1\n",
      "17                slope_downsloping        1\n",
      "18                       slope_flat        1\n",
      "19                  slope_upsloping        1\n",
      "20                thal_fixed_defect        1\n",
      "21                      thal_normal        1\n",
      "22           thal_reversable_defect        1\n"
     ]
    }
   ],
   "source": [
    "selected_rfe_features = pd.DataFrame({'Feature':list(X.columns),\n",
    "                                     'Ranking':rfecv.ranking_})\n",
    "\n",
    "print(selected_rfe_features)"
   ]
  },
  {
   "cell_type": "markdown",
   "metadata": {},
   "source": [
    "## Creating Training and Testing Data Sets"
   ]
  },
  {
   "cell_type": "code",
   "execution_count": 26,
   "metadata": {},
   "outputs": [
    {
     "name": "stdout",
     "output_type": "stream",
     "text": [
      "Summary of feature sample\n"
     ]
    },
    {
     "data": {
      "text/html": [
       "<div>\n",
       "<style scoped>\n",
       "    .dataframe tbody tr th:only-of-type {\n",
       "        vertical-align: middle;\n",
       "    }\n",
       "\n",
       "    .dataframe tbody tr th {\n",
       "        vertical-align: top;\n",
       "    }\n",
       "\n",
       "    .dataframe thead th {\n",
       "        text-align: right;\n",
       "    }\n",
       "</style>\n",
       "<table border=\"1\" class=\"dataframe\">\n",
       "  <thead>\n",
       "    <tr style=\"text-align: right;\">\n",
       "      <th></th>\n",
       "      <th>age</th>\n",
       "      <th>trestbps</th>\n",
       "      <th>chol</th>\n",
       "      <th>fbs</th>\n",
       "      <th>thalach</th>\n",
       "      <th>exang</th>\n",
       "      <th>oldpeak</th>\n",
       "      <th>ca</th>\n",
       "      <th>sex_female</th>\n",
       "      <th>sex_male</th>\n",
       "      <th>...</th>\n",
       "      <th>cp_typical_angina</th>\n",
       "      <th>restecg_STT_wave_abnormality</th>\n",
       "      <th>restecg_normal</th>\n",
       "      <th>restecg_ventricular_hypertrophy</th>\n",
       "      <th>slope_downsloping</th>\n",
       "      <th>slope_flat</th>\n",
       "      <th>slope_upsloping</th>\n",
       "      <th>thal_fixed_defect</th>\n",
       "      <th>thal_normal</th>\n",
       "      <th>thal_reversable_defect</th>\n",
       "    </tr>\n",
       "  </thead>\n",
       "  <tbody>\n",
       "    <tr>\n",
       "      <th>0</th>\n",
       "      <td>0.708333</td>\n",
       "      <td>0.481132</td>\n",
       "      <td>0.244292</td>\n",
       "      <td>1.0</td>\n",
       "      <td>0.603053</td>\n",
       "      <td>0.0</td>\n",
       "      <td>0.370968</td>\n",
       "      <td>0.0</td>\n",
       "      <td>0.0</td>\n",
       "      <td>1.0</td>\n",
       "      <td>...</td>\n",
       "      <td>1.0</td>\n",
       "      <td>0.0</td>\n",
       "      <td>0.0</td>\n",
       "      <td>1.0</td>\n",
       "      <td>1.0</td>\n",
       "      <td>0.0</td>\n",
       "      <td>0.0</td>\n",
       "      <td>1.0</td>\n",
       "      <td>0.0</td>\n",
       "      <td>0.0</td>\n",
       "    </tr>\n",
       "    <tr>\n",
       "      <th>1</th>\n",
       "      <td>0.166667</td>\n",
       "      <td>0.339623</td>\n",
       "      <td>0.283105</td>\n",
       "      <td>0.0</td>\n",
       "      <td>0.885496</td>\n",
       "      <td>0.0</td>\n",
       "      <td>0.564516</td>\n",
       "      <td>0.0</td>\n",
       "      <td>0.0</td>\n",
       "      <td>1.0</td>\n",
       "      <td>...</td>\n",
       "      <td>0.0</td>\n",
       "      <td>0.0</td>\n",
       "      <td>1.0</td>\n",
       "      <td>0.0</td>\n",
       "      <td>1.0</td>\n",
       "      <td>0.0</td>\n",
       "      <td>0.0</td>\n",
       "      <td>0.0</td>\n",
       "      <td>1.0</td>\n",
       "      <td>0.0</td>\n",
       "    </tr>\n",
       "    <tr>\n",
       "      <th>2</th>\n",
       "      <td>0.250000</td>\n",
       "      <td>0.339623</td>\n",
       "      <td>0.178082</td>\n",
       "      <td>0.0</td>\n",
       "      <td>0.770992</td>\n",
       "      <td>0.0</td>\n",
       "      <td>0.225806</td>\n",
       "      <td>0.0</td>\n",
       "      <td>1.0</td>\n",
       "      <td>0.0</td>\n",
       "      <td>...</td>\n",
       "      <td>0.0</td>\n",
       "      <td>0.0</td>\n",
       "      <td>0.0</td>\n",
       "      <td>1.0</td>\n",
       "      <td>0.0</td>\n",
       "      <td>0.0</td>\n",
       "      <td>1.0</td>\n",
       "      <td>0.0</td>\n",
       "      <td>1.0</td>\n",
       "      <td>0.0</td>\n",
       "    </tr>\n",
       "    <tr>\n",
       "      <th>3</th>\n",
       "      <td>0.562500</td>\n",
       "      <td>0.245283</td>\n",
       "      <td>0.251142</td>\n",
       "      <td>0.0</td>\n",
       "      <td>0.816794</td>\n",
       "      <td>0.0</td>\n",
       "      <td>0.129032</td>\n",
       "      <td>0.0</td>\n",
       "      <td>0.0</td>\n",
       "      <td>1.0</td>\n",
       "      <td>...</td>\n",
       "      <td>0.0</td>\n",
       "      <td>0.0</td>\n",
       "      <td>1.0</td>\n",
       "      <td>0.0</td>\n",
       "      <td>0.0</td>\n",
       "      <td>0.0</td>\n",
       "      <td>1.0</td>\n",
       "      <td>0.0</td>\n",
       "      <td>1.0</td>\n",
       "      <td>0.0</td>\n",
       "    </tr>\n",
       "    <tr>\n",
       "      <th>4</th>\n",
       "      <td>0.583333</td>\n",
       "      <td>0.245283</td>\n",
       "      <td>0.520548</td>\n",
       "      <td>0.0</td>\n",
       "      <td>0.702290</td>\n",
       "      <td>1.0</td>\n",
       "      <td>0.096774</td>\n",
       "      <td>0.0</td>\n",
       "      <td>1.0</td>\n",
       "      <td>0.0</td>\n",
       "      <td>...</td>\n",
       "      <td>0.0</td>\n",
       "      <td>0.0</td>\n",
       "      <td>1.0</td>\n",
       "      <td>0.0</td>\n",
       "      <td>0.0</td>\n",
       "      <td>0.0</td>\n",
       "      <td>1.0</td>\n",
       "      <td>0.0</td>\n",
       "      <td>1.0</td>\n",
       "      <td>0.0</td>\n",
       "    </tr>\n",
       "  </tbody>\n",
       "</table>\n",
       "<p>5 rows × 23 columns</p>\n",
       "</div>"
      ],
      "text/plain": [
       "        age  trestbps      chol  fbs   thalach  exang   oldpeak   ca  \\\n",
       "0  0.708333  0.481132  0.244292  1.0  0.603053    0.0  0.370968  0.0   \n",
       "1  0.166667  0.339623  0.283105  0.0  0.885496    0.0  0.564516  0.0   \n",
       "2  0.250000  0.339623  0.178082  0.0  0.770992    0.0  0.225806  0.0   \n",
       "3  0.562500  0.245283  0.251142  0.0  0.816794    0.0  0.129032  0.0   \n",
       "4  0.583333  0.245283  0.520548  0.0  0.702290    1.0  0.096774  0.0   \n",
       "\n",
       "   sex_female  sex_male  ...  cp_typical_angina  restecg_STT_wave_abnormality  \\\n",
       "0         0.0       1.0  ...                1.0                           0.0   \n",
       "1         0.0       1.0  ...                0.0                           0.0   \n",
       "2         1.0       0.0  ...                0.0                           0.0   \n",
       "3         0.0       1.0  ...                0.0                           0.0   \n",
       "4         1.0       0.0  ...                0.0                           0.0   \n",
       "\n",
       "   restecg_normal  restecg_ventricular_hypertrophy  slope_downsloping  \\\n",
       "0             0.0                              1.0                1.0   \n",
       "1             1.0                              0.0                1.0   \n",
       "2             0.0                              1.0                0.0   \n",
       "3             1.0                              0.0                0.0   \n",
       "4             1.0                              0.0                0.0   \n",
       "\n",
       "   slope_flat  slope_upsloping  thal_fixed_defect  thal_normal  \\\n",
       "0         0.0              0.0                1.0          0.0   \n",
       "1         0.0              0.0                0.0          1.0   \n",
       "2         0.0              1.0                0.0          1.0   \n",
       "3         0.0              1.0                0.0          1.0   \n",
       "4         0.0              1.0                0.0          1.0   \n",
       "\n",
       "   thal_reversable_defect  \n",
       "0                     0.0  \n",
       "1                     0.0  \n",
       "2                     0.0  \n",
       "3                     0.0  \n",
       "4                     0.0  \n",
       "\n",
       "[5 rows x 23 columns]"
      ]
     },
     "execution_count": 26,
     "metadata": {},
     "output_type": "execute_result"
    }
   ],
   "source": [
    "#Features \n",
    "features = heartdf_scaled.drop('target', axis=1)\n",
    "print('Summary of feature sample')\n",
    "features.head()"
   ]
  },
  {
   "cell_type": "code",
   "execution_count": 27,
   "metadata": {},
   "outputs": [],
   "source": [
    "# Dependent variable \n",
    "depVar = heartdf_scaled['target']"
   ]
  },
  {
   "cell_type": "markdown",
   "metadata": {},
   "source": [
    "### Create Training Set"
   ]
  },
  {
   "cell_type": "code",
   "execution_count": 28,
   "metadata": {},
   "outputs": [
    {
     "data": {
      "text/plain": [
       "(210, 23)"
      ]
     },
     "execution_count": 28,
     "metadata": {},
     "output_type": "execute_result"
    }
   ],
   "source": [
    "# Training Set (70%)\n",
    "xtraining_data = (features[:210])\n",
    "xtraining_data.shape"
   ]
  },
  {
   "cell_type": "code",
   "execution_count": 29,
   "metadata": {},
   "outputs": [
    {
     "name": "stdout",
     "output_type": "stream",
     "text": [
      "The number of observations in the Y training set are: 210\n"
     ]
    }
   ],
   "source": [
    "# Dependent Variable Training Set (y Training)\n",
    "depVar_training = depVar[:210]\n",
    "depVar_training_count = len(depVar_training.index)\n",
    "print('The number of observations in the Y training set are:',str(depVar_training_count))"
   ]
  },
  {
   "cell_type": "markdown",
   "metadata": {},
   "source": [
    "## Create Testing Set"
   ]
  },
  {
   "cell_type": "code",
   "execution_count": 30,
   "metadata": {},
   "outputs": [
    {
     "name": "stdout",
     "output_type": "stream",
     "text": [
      "The number of observations in the feature testing set is: 91\n"
     ]
    },
    {
     "data": {
      "text/plain": [
       "(91, 23)"
      ]
     },
     "execution_count": 30,
     "metadata": {},
     "output_type": "execute_result"
    }
   ],
   "source": [
    "#Testing Set (X Testing)\n",
    "xtesting_data = features[-91:]\n",
    "xtesting_data_count = len(xtesting_data.index)\n",
    "print('The number of observations in the feature testing set is:',str(xtesting_data_count))\n",
    "xtesting_data.shape"
   ]
  },
  {
   "cell_type": "markdown",
   "metadata": {},
   "source": [
    "### Establishing Ground Truth"
   ]
  },
  {
   "cell_type": "code",
   "execution_count": 31,
   "metadata": {},
   "outputs": [
    {
     "name": "stdout",
     "output_type": "stream",
     "text": [
      "The number of observations in the Y training set are: 91\n"
     ]
    }
   ],
   "source": [
    "#Ground Truth (y_test) \n",
    "depVar_testing = depVar[-91:]\n",
    "depVar_testing_count = len(depVar_testing.index)\n",
    "print('The number of observations in the Y training set are:',str(depVar_testing_count))"
   ]
  },
  {
   "cell_type": "markdown",
   "metadata": {},
   "source": [
    "## Cross Validation"
   ]
  },
  {
   "cell_type": "code",
   "execution_count": 32,
   "metadata": {},
   "outputs": [
    {
     "data": {
      "text/plain": [
       "((157, 23), (53, 23))"
      ]
     },
     "execution_count": 32,
     "metadata": {},
     "output_type": "execute_result"
    }
   ],
   "source": [
    "xtraining_data, xtesting_data, depVar_training, depVar_testing = train_test_split(xtraining_data, depVar_training)\n",
    "xtraining_data.shape, xtesting_data.shape"
   ]
  },
  {
   "cell_type": "markdown",
   "metadata": {},
   "source": [
    "# Building Models"
   ]
  },
  {
   "cell_type": "markdown",
   "metadata": {},
   "source": [
    "## Random Forest"
   ]
  },
  {
   "cell_type": "code",
   "execution_count": 45,
   "metadata": {},
   "outputs": [
    {
     "data": {
      "text/plain": [
       "RandomForestClassifier(bootstrap=True, ccp_alpha=0.0, class_weight=None,\n",
       "                       criterion='gini', max_depth=None, max_features='auto',\n",
       "                       max_leaf_nodes=None, max_samples=None,\n",
       "                       min_impurity_decrease=0.0, min_impurity_split=None,\n",
       "                       min_samples_leaf=1, min_samples_split=2,\n",
       "                       min_weight_fraction_leaf=0.0, n_estimators=100,\n",
       "                       n_jobs=None, oob_score=False, random_state=None,\n",
       "                       verbose=0, warm_start=False)"
      ]
     },
     "execution_count": 45,
     "metadata": {},
     "output_type": "execute_result"
    }
   ],
   "source": [
    "modelRF = RandomForestClassifier()\n",
    "modelRF.fit(xtraining_data, depVar_training)"
   ]
  },
  {
   "cell_type": "code",
   "execution_count": 46,
   "metadata": {},
   "outputs": [
    {
     "name": "stdout",
     "output_type": "stream",
     "text": [
      "[0.875      0.84375    0.90322581 0.83870968 0.87096774]\n"
     ]
    }
   ],
   "source": [
    "# Training scores \n",
    "print(cross_val_score(modelRF, xtraining_data, depVar_training))"
   ]
  },
  {
   "cell_type": "code",
   "execution_count": 47,
   "metadata": {},
   "outputs": [
    {
     "data": {
      "text/plain": [
       "1.0"
      ]
     },
     "execution_count": 47,
     "metadata": {},
     "output_type": "execute_result"
    }
   ],
   "source": [
    "# Model Score\n",
    "modelRF.score(xtraining_data, depVar_training)"
   ]
  },
  {
   "cell_type": "markdown",
   "metadata": {},
   "source": [
    "## Support Vector Machine"
   ]
  },
  {
   "cell_type": "code",
   "execution_count": 42,
   "metadata": {},
   "outputs": [
    {
     "data": {
      "text/plain": [
       "SVC(C=1.0, break_ties=False, cache_size=200, class_weight=None, coef0=0.0,\n",
       "    decision_function_shape='ovr', degree=3, gamma='scale', kernel='rbf',\n",
       "    max_iter=-1, probability=False, random_state=None, shrinking=True,\n",
       "    tol=0.001, verbose=False)"
      ]
     },
     "execution_count": 42,
     "metadata": {},
     "output_type": "execute_result"
    }
   ],
   "source": [
    "modelSVC = SVC()\n",
    "modelSVC.fit(xtraining_data, depVar_training)"
   ]
  },
  {
   "cell_type": "code",
   "execution_count": 43,
   "metadata": {},
   "outputs": [
    {
     "name": "stdout",
     "output_type": "stream",
     "text": [
      "[0.875      0.78125    0.83870968 0.87096774 0.83870968]\n"
     ]
    }
   ],
   "source": [
    "# Training scores \n",
    "print(cross_val_score(modelSVC, xtraining_data, depVar_training))"
   ]
  },
  {
   "cell_type": "code",
   "execution_count": 44,
   "metadata": {},
   "outputs": [
    {
     "data": {
      "text/plain": [
       "0.9171974522292994"
      ]
     },
     "execution_count": 44,
     "metadata": {},
     "output_type": "execute_result"
    }
   ],
   "source": [
    "# Model Score\n",
    "modelSVC.score(xtraining_data, depVar_training)"
   ]
  },
  {
   "cell_type": "markdown",
   "metadata": {},
   "source": [
    "## Stochastic Gradient Descent"
   ]
  },
  {
   "cell_type": "code",
   "execution_count": 48,
   "metadata": {},
   "outputs": [
    {
     "data": {
      "text/plain": [
       "SGDClassifier(alpha=0.0001, average=False, class_weight=None,\n",
       "              early_stopping=False, epsilon=0.1, eta0=0.0, fit_intercept=True,\n",
       "              l1_ratio=0.15, learning_rate='optimal', loss='hinge',\n",
       "              max_iter=1000, n_iter_no_change=5, n_jobs=None, penalty='l2',\n",
       "              power_t=0.5, random_state=None, shuffle=True, tol=0.001,\n",
       "              validation_fraction=0.1, verbose=0, warm_start=False)"
      ]
     },
     "execution_count": 48,
     "metadata": {},
     "output_type": "execute_result"
    }
   ],
   "source": [
    "modelSGD = SGDClassifier()\n",
    "modelSGD.fit(xtraining_data, depVar_training)"
   ]
  },
  {
   "cell_type": "code",
   "execution_count": 49,
   "metadata": {},
   "outputs": [
    {
     "name": "stdout",
     "output_type": "stream",
     "text": [
      "[0.75       0.78125    0.83870968 0.87096774 0.83870968]\n"
     ]
    }
   ],
   "source": [
    "# Training scores \n",
    "print(cross_val_score(modelSGD, xtraining_data, depVar_training))"
   ]
  },
  {
   "cell_type": "code",
   "execution_count": 50,
   "metadata": {},
   "outputs": [
    {
     "data": {
      "text/plain": [
       "0.8280254777070064"
      ]
     },
     "execution_count": 50,
     "metadata": {},
     "output_type": "execute_result"
    }
   ],
   "source": [
    "# Model Score\n",
    "modelSGD.score(xtraining_data, depVar_training)"
   ]
  },
  {
   "cell_type": "markdown",
   "metadata": {},
   "source": [
    "# Model Tuning for SVM"
   ]
  },
  {
   "cell_type": "markdown",
   "metadata": {},
   "source": [
    "## Tuning Kernel"
   ]
  },
  {
   "cell_type": "code",
   "execution_count": 33,
   "metadata": {},
   "outputs": [
    {
     "data": {
      "text/plain": [
       "SVC(C=1.0, break_ties=False, cache_size=200, class_weight=None, coef0=0.0,\n",
       "    decision_function_shape='ovr', degree=3, gamma='scale', kernel='linear',\n",
       "    max_iter=-1, probability=False, random_state=None, shrinking=True,\n",
       "    tol=0.001, verbose=False)"
      ]
     },
     "execution_count": 33,
     "metadata": {},
     "output_type": "execute_result"
    }
   ],
   "source": [
    "modelSVC2 = SVC(kernel = 'linear')\n",
    "modelSVC2.fit(xtraining_data, depVar_training)"
   ]
  },
  {
   "cell_type": "code",
   "execution_count": 34,
   "metadata": {},
   "outputs": [
    {
     "name": "stdout",
     "output_type": "stream",
     "text": [
      "Training scores\n",
      "[0.8125     0.90625    0.87096774 0.87096774 0.90322581]\n"
     ]
    }
   ],
   "source": [
    "# Training scores \n",
    "print(\"Training scores\")\n",
    "print(cross_val_score(modelSVC2, xtraining_data, depVar_training))"
   ]
  },
  {
   "cell_type": "code",
   "execution_count": 35,
   "metadata": {},
   "outputs": [
    {
     "data": {
      "text/plain": [
       "0.9044585987261147"
      ]
     },
     "execution_count": 35,
     "metadata": {},
     "output_type": "execute_result"
    }
   ],
   "source": [
    "# Model Score\n",
    "modelSVC2.score(xtraining_data, depVar_training)"
   ]
  },
  {
   "cell_type": "markdown",
   "metadata": {},
   "source": [
    "## Tuning C"
   ]
  },
  {
   "cell_type": "code",
   "execution_count": 36,
   "metadata": {},
   "outputs": [
    {
     "data": {
      "text/plain": [
       "SVC(C=100, break_ties=False, cache_size=200, class_weight=None, coef0=0.0,\n",
       "    decision_function_shape='ovr', degree=3, gamma='scale', kernel='rbf',\n",
       "    max_iter=-1, probability=False, random_state=None, shrinking=True,\n",
       "    tol=0.001, verbose=False)"
      ]
     },
     "execution_count": 36,
     "metadata": {},
     "output_type": "execute_result"
    }
   ],
   "source": [
    "modelSVC3 = SVC(C=100)\n",
    "modelSVC3.fit(xtraining_data, depVar_training)"
   ]
  },
  {
   "cell_type": "code",
   "execution_count": 37,
   "metadata": {},
   "outputs": [
    {
     "name": "stdout",
     "output_type": "stream",
     "text": [
      "Training scores\n",
      "[0.71875    0.875      0.83870968 0.83870968 0.80645161]\n"
     ]
    }
   ],
   "source": [
    "# Training scores \n",
    "print(\"Training scores\")\n",
    "print(cross_val_score(modelSVC3, xtraining_data, depVar_training))"
   ]
  },
  {
   "cell_type": "code",
   "execution_count": 38,
   "metadata": {},
   "outputs": [
    {
     "data": {
      "text/plain": [
       "1.0"
      ]
     },
     "execution_count": 38,
     "metadata": {},
     "output_type": "execute_result"
    }
   ],
   "source": [
    "# Model Score\n",
    "modelSVC3.score(xtraining_data, depVar_training)"
   ]
  },
  {
   "cell_type": "code",
   "execution_count": 39,
   "metadata": {},
   "outputs": [
    {
     "data": {
      "text/plain": [
       "SVC(C=50, break_ties=False, cache_size=200, class_weight=None, coef0=0.0,\n",
       "    decision_function_shape='ovr', degree=3, gamma='scale', kernel='rbf',\n",
       "    max_iter=-1, probability=False, random_state=None, shrinking=True,\n",
       "    tol=0.001, verbose=False)"
      ]
     },
     "execution_count": 39,
     "metadata": {},
     "output_type": "execute_result"
    }
   ],
   "source": [
    "modelSVC4 = SVC(C=50)\n",
    "modelSVC4.fit(xtraining_data, depVar_training)"
   ]
  },
  {
   "cell_type": "code",
   "execution_count": 40,
   "metadata": {},
   "outputs": [
    {
     "name": "stdout",
     "output_type": "stream",
     "text": [
      "Training scores\n",
      "[0.75       0.875      0.83870968 0.83870968 0.80645161]\n"
     ]
    }
   ],
   "source": [
    "# Training scores \n",
    "print(\"Training scores\")\n",
    "print(cross_val_score(modelSVC4, xtraining_data, depVar_training))"
   ]
  },
  {
   "cell_type": "code",
   "execution_count": 41,
   "metadata": {},
   "outputs": [
    {
     "data": {
      "text/plain": [
       "0.9936305732484076"
      ]
     },
     "execution_count": 41,
     "metadata": {},
     "output_type": "execute_result"
    }
   ],
   "source": [
    "# Model Score\n",
    "modelSVC4.score(xtraining_data, depVar_training)"
   ]
  },
  {
   "cell_type": "markdown",
   "metadata": {},
   "source": [
    "# Prediction and Evaluation of Results"
   ]
  },
  {
   "cell_type": "code",
   "execution_count": 52,
   "metadata": {},
   "outputs": [
    {
     "name": "stdout",
     "output_type": "stream",
     "text": [
      "Support Vector Classifier R Squared: 0.197\n",
      "Support Vector Classifier RMSE: 0.336\n"
     ]
    }
   ],
   "source": [
    "predictionsSVC = modelSVC.predict(xtesting_data)\n",
    "predRsquaredSVC = r2_score(depVar_testing,predictionsSVC)\n",
    "rmseSVC5 = sqrt(mean_squared_error(depVar_testing, predictionsSVC))\n",
    "print('Support Vector Classifier R Squared: %.3f' % predRsquaredSVC)\n",
    "print('Support Vector Classifier RMSE: %.3f' % rmseSVC5)"
   ]
  },
  {
   "cell_type": "code",
   "execution_count": null,
   "metadata": {},
   "outputs": [],
   "source": []
  }
 ],
 "metadata": {
  "kernelspec": {
   "display_name": "Python 3",
   "language": "python",
   "name": "python3"
  },
  "language_info": {
   "codemirror_mode": {
    "name": "ipython",
    "version": 3
   },
   "file_extension": ".py",
   "mimetype": "text/x-python",
   "name": "python",
   "nbconvert_exporter": "python",
   "pygments_lexer": "ipython3",
   "version": "3.7.6"
  }
 },
 "nbformat": 4,
 "nbformat_minor": 4
}
